{
 "cells": [
  {
   "cell_type": "markdown",
   "source": [
    "# Using BFGP++ in the Unified Planning library\n",
    "\n",
    "In this notebook, we show the steps to take to compute generalized solutions for planning problems with the _BFGP++_ UP interface. These can be obtained from the combination of three different execution modes and several target languages, to address STRIPS, program synthesis and learning action models benchmarks.   \n",
    "\n",
    "## 1. Installation"
   ],
   "metadata": {
    "collapsed": false
   },
   "id": "ab80417b058c49e9"
  },
  {
   "cell_type": "code",
   "execution_count": null,
   "outputs": [],
   "source": [
    "!pip install up-bfgp"
   ],
   "metadata": {
    "collapsed": false
   },
   "id": "3efa5469bd759307"
  },
  {
   "cell_type": "markdown",
   "source": [
    "\n",
    "## 2. Execution modes\n",
    "\n",
    "The framework allows three different kinds of execution modes, `synthesis`, `validation` and `repair`. The next steps describes each mode and how to use them in a particular example for solving _Gripper_ domain.\n",
    "\n",
    "First let's import the required libraries:"
   ],
   "metadata": {
    "collapsed": false
   },
   "id": "f7c05a2973b21510"
  },
  {
   "cell_type": "code",
   "execution_count": null,
   "outputs": [],
   "source": [
    "from unified_planning.shortcuts import *  # type: ignore\n",
    "from unified_planning.plans import PlanKind  # type: ignore\n",
    "from unified_planning.engines.results import PlanGenerationResultStatus"
   ],
   "metadata": {
    "collapsed": false
   },
   "id": "4660e92a1bc8f53d"
  },
  {
   "cell_type": "markdown",
   "source": [
    "The execution of the framework requires a `domain_file` name, a list of `problem_files` names and the set of arguments (`args`) which depend on the executed mode. The following code serve as a base for calling _BFGP++_:"
   ],
   "metadata": {
    "collapsed": false
   },
   "id": "a58ea36ebfb6f27a"
  },
  {
   "cell_type": "code",
   "execution_count": null,
   "outputs": [],
   "source": [
    "def base_bfgp_call(domain_file: str, problem_files: List[str], args: dict):\n",
    "    with up.environment.get_environment().factory.FewshotPlanner(name='bfgp') as bfgp:\n",
    "        bfgp.set_arguments(**args)\n",
    "        bfgp_problems = bfgp.generate_problems(domain_file, problem_files)\n",
    "        # Compute the generalized plan for these input problems\n",
    "        result = bfgp.solve(bfgp_problems, output_stream=sys.stdout)\n",
    "        # Check whether all generated plans are satisficing\n",
    "        return all(r == PlanGenerationResultStatus.SOLVED_SATISFICING for r in result)"
   ],
   "metadata": {
    "collapsed": false
   },
   "id": "1df8f777ab00735a"
  },
  {
   "cell_type": "markdown",
   "source": [
    "This function assumes the domain and problems are existing files, however, they can also be implemented in Python code as shown in many other usage examples in the Unified Planning library. If the list of `problems` is implemented in Python instead of parsed from a file, _BFGP++_ can be directly called with the `bfgp.solve(problems)` command (i.e., skipping `bfgp.generate_problems(domain_file, problem_files)`) . "
   ],
   "metadata": {
    "collapsed": false
   },
   "id": "88cbcd4395c6b2e3"
  },
  {
   "cell_type": "markdown",
   "source": [],
   "metadata": {
    "collapsed": false
   },
   "id": "d7bff22dff7e514c"
  },
  {
   "cell_type": "markdown",
   "source": [
    "\n",
    "\n",
    "### 2.a. Synthesis\n",
    "\n",
    "This mode refers to the generation of a planning program given a domain and a set of planning instances in that domain. For instance, the _Gripper_ domain is defined by 3 sorts of objects (_room_, _ball_, and _gripper_); 4 predicates that refer to whether the robby is (_robby-at_), whether each ball is in a specific room (_at_), if a gripper is free (_free_) or if it is carrying a ball (_carry_); 2 sorts of constants which refer to _left_ and _right_ grippers, and rooms _A_ and _B_; and 3 action schemas that describe the picking and dropping of a ball with a gripper in a room, and an action for moving from one room to another one. Then, each _Gripper_ instance is initialized with the robby and all balls in room _A_ and the goal is to move all balls to room _B_. A general strategy to solve any problem consists of picking a ball, move to room _B_, drop it, move to room _A_, and repeat this procedure while there are still balls in room _A_. "
   ],
   "metadata": {
    "collapsed": false
   },
   "id": "28ae2c4ba05e20bd"
  },
  {
   "cell_type": "code",
   "execution_count": null,
   "outputs": [],
   "source": [
    "\"\"\"BFGP++ synthesizing a program that can solve 3 different Gripper instances\"\"\"\n",
    "domain = '../tests/domains/gripper/domain.pddl'\n",
    "problems = [f'../tests/domains/gripper/p{i:02}.pddl' for i in range(1, 4)]\n",
    "kwargs = dict({'mode': 'synthesis',\n",
    "               'theory': 'cpp',\n",
    "               'program_lines': 10,\n",
    "               'program': 'gripper',\n",
    "               'translated_problem_dir': 'tmp_gripper/'})\n",
    "\n",
    "print(f\"Does a solution exist for Gripper? {base_bfgp_call(domain_file=domain, problem_files=problems, args=kwargs)}\")"
   ],
   "metadata": {
    "collapsed": false
   },
   "id": "d8538e17f6cfe43d"
  },
  {
   "cell_type": "markdown",
   "source": [
    "\n",
    "### 2.b. Validation\n",
    "\n",
    "In the `synthesis` mode example above, the Gripper solution is first found, then generates one plan per instance and validates those plans with the UP library. Now let's assume that we have the program, e.g. the Gripper solution, and we want to validate it over new planning instances, e.g. starting with 10 and 13 balls in room A, so we run the following command to validate the program:"
   ],
   "metadata": {
    "collapsed": false
   },
   "id": "eb14d5ee4255e060"
  },
  {
   "cell_type": "code",
   "execution_count": null,
   "outputs": [],
   "source": [
    "\"\"\"BFGP++ validating a program over 2 different and larger Gripper instances\"\"\"\n",
    "domain = '../tests/domains/gripper/domain.pddl'\n",
    "problems = [f'../tests/domains/gripper/p{i:02}.pddl' for i in range(4, 6)]\n",
    "kwargs = dict({'mode': 'validation-prog',\n",
    "               'theory': 'cpp',\n",
    "               'program': 'gripper',\n",
    "               'translated_problem_dir': 'tmp_gripper/'})\n",
    "print(f\"Is the program valid over new Gripper instances? {base_bfgp_call(domain_file=domain, problem_files=problems, args=kwargs)}\")"
   ],
   "metadata": {
    "collapsed": false
   },
   "id": "e5d8f32ff5cc7981"
  },
  {
   "cell_type": "markdown",
   "source": [
    " \n",
    "\n",
    "### 2.c. Repair\n",
    "\n",
    "The two modes above can be interpreted as if the user has no knowledge at all about the solution (empty program, hence run `synthesis`) or full knowledge about it (full program is known, hence run `validation`). Thus, `repair` mode is an intermediate step between `synthesis` and `validation`, where some parts of the program may be known (also they are maybe wrong) and the system must repair them to get to a valid solution if one exists.  The following examples try to repair 3 different input programs where the first is all correct, in the second all loops are missing, and in the third all planning actions are missing:"
   ],
   "metadata": {
    "collapsed": false
   },
   "id": "f3299cee615603ed"
  },
  {
   "cell_type": "code",
   "execution_count": null,
   "outputs": [],
   "source": [
    "\"\"\"BFGP++ repairing (if needed) 3 Gripper programs for the same input instances\"\"\"\n",
    "domain = '../tests/domains/gripper/domain.pddl'\n",
    "problems = [f'../tests/domains/gripper/p{i:02}.pddl' for i in range(1, 4)]\n",
    "\n",
    "# Example 1: the input program is correct\n",
    "kwargs = dict({'mode': 'repair',\n",
    "               'theory': 'cpp',\n",
    "               'program_lines': 10,\n",
    "               'program': '../tests/domains/gripper/program_repair/gripper_cpp_ok',\n",
    "               'translated_problem_dir': 'tmp_gripper_ok/'})\n",
    "\n",
    "print(f\"Example 1 has been repaired? {base_bfgp_call(domain_file=domain, problem_files=problems, args=kwargs)}\")\n",
    "\n",
    "# Example 2: the input program has some missing loops\n",
    "kwargs = dict({'mode': 'repair',\n",
    "               'theory': 'cpp',\n",
    "               'program_lines': 10,\n",
    "               'program': '../tests/domains/gripper/program_repair/gripper_cpp_missing_loops',\n",
    "               'translated_problem_dir': 'tmp_gripper_missing_loops/'})\n",
    "\n",
    "print(f\"Example 2 has been repaired? {base_bfgp_call(domain_file=domain, problem_files=problems, args=kwargs)}\")\n",
    "\n",
    "# Example 3: the input program has some missing planning action\n",
    "kwargs = dict({'mode': 'repair',\n",
    "               'theory': 'cpp',\n",
    "               'program_lines': 10,\n",
    "               'program': '../tests/domains/gripper/program_repair/gripper_cpp_missing_planning_actions',\n",
    "               'translated_problem_dir': 'tmp_gripper_missing_planning_actions/'})\n",
    "\n",
    "print(f\"Example 3 has been repaired? {base_bfgp_call(domain_file=domain, problem_files=problems, args=kwargs)}\")"
   ],
   "metadata": {
    "collapsed": false
   },
   "id": "ef491db174caaf03"
  },
  {
   "cell_type": "markdown",
   "source": [
    "## 3. Target Languages\n",
    "There are two major sorts of target languages in this system:\n",
    "1. the ones used for computing generalized planning solutions, and \n",
    "2. the ones to learn action models.\n",
    " \n",
    "In the former, we set the `theory` argument either to `assembler` (looping and branching are goto instructions) or `cpp` (looping and branching are well-structured and programs are a restricted set of C++). In the latter, we set the `theory` argument to one of the four different languages for representing deterministic transitions, `actions_strips` for STRIPS action schemas, `actions_adl` for action schemas with quantified effects, `actions_cell` for representing 1D cellular automata transitions, and `actions_ram` for action schemas with loops and branches.\n",
    "\n",
    "### 3.a. STRIPS benchmarks\n",
    "These are the set of problems represented in STRIPS language plus negative preconditions. All the executions of the _Gripper_ domain above are of this kind, with the `cpp` target language. Now let's try to compute an assembly-like program for the same domain (note the setting update `'theory': 'assembler'`)\n"
   ],
   "metadata": {
    "collapsed": false
   },
   "id": "bb0ba74dbd322711"
  },
  {
   "cell_type": "code",
   "execution_count": null,
   "outputs": [],
   "source": [
    "\"\"\"BFGP++ synthesizing an assembler-like program that can solve 3 different Gripper instances\"\"\"\n",
    "domain = '../tests/domains/gripper/domain.pddl'\n",
    "problems = [f'../tests/domains/gripper/p{i:02}.pddl' for i in range(1, 4)]\n",
    "kwargs = dict({'mode': 'synthesis',\n",
    "               'theory': 'assembler',\n",
    "               'program_lines': 8,\n",
    "               'program': 'gripper',\n",
    "               'translated_problem_dir': 'tmp_gripper_assembler/',\n",
    "               'evaluation_functions': [\"ed\", \"lc\"]})\n",
    "\n",
    "print(f\"Does an assembly-like solution exist for Gripper? {base_bfgp_call(domain_file=domain, problem_files=problems, args=kwargs)}\")"
   ],
   "metadata": {
    "collapsed": false
   },
   "id": "21c00bf77a25752e"
  },
  {
   "cell_type": "markdown",
   "source": [
    "\n",
    "\n",
    "### 3.b. Program Synthesis\n",
    "These benchmarks extend STRIPS and negative preconditions with numerical state variables (i.e., integers) and operations over them like increase, decrease, add, subtract, smaller, greater and so on. We split them into two classes, the first focus on computing the n-th term of some sequence, e.g. _Triangular Sum_, and the second consists of list manipulation, e.g. _Sorting_. The following code exemplifies a call for _Sorting_ domain that arranges any list of numbers in ascending order: "
   ],
   "metadata": {
    "collapsed": false
   },
   "id": "bbf307c5e876df76"
  },
  {
   "cell_type": "code",
   "execution_count": null,
   "outputs": [],
   "source": [
    "\"\"\"BFGP++ synthesizing a Sorting algorithm given 10 instances with an arbitrary lists of numbers\"\"\"\n",
    "domain = '../tests/domains/sorting/domain.txt'\n",
    "problems = [f'../tests/domains/sorting/{i}.txt' for i in range(1, 11)]\n",
    "kwargs = dict({'mode': 'synthesis',\n",
    "               'theory': 'cpp',\n",
    "               'program_lines': 8,\n",
    "               'program': 'sorting',\n",
    "               'translated_problem_dir': 'tmp_sorting/'})\n",
    "\n",
    "print(f\"Does a sorting algorithm of 8 lines exist? {base_bfgp_call(domain_file=domain, problem_files=problems, args=kwargs)}\")"
   ],
   "metadata": {
    "collapsed": false
   },
   "id": "babed7204a081189"
  },
  {
   "cell_type": "markdown",
   "source": [
    "\n",
    "### 3.c. Learning Action Models\n",
    "These benchmarks are similar to STRIPS with negative preconditions, but every instance represents a deterministic transition (pre-state is the initial state, and post-state is the goal), hence they need to include information about the executed action as a predicate, e.g. for picking a ball in room _A_ in the _Gripper_ domain, the following fact `(action_pick ball1 rooma right)` must appear in the initial state. The following shows an example for learning the picking action of _Gripper_ given 20 picking deterministic transitions.\n",
    "\n"
   ],
   "metadata": {
    "collapsed": false
   },
   "id": "4e63287c821784b0"
  },
  {
   "cell_type": "code",
   "execution_count": null,
   "outputs": [],
   "source": [
    "\"\"\"BFGP++ learning a STRIPS action model for picking balls in Gripper from the first 20 instances\"\"\"\n",
    "domain = '../up_bfgp/bfgp_pp/domains/aiplan4eu/action_models/synthesis/strips/gripper/pick/domain.txt'\n",
    "problems = [f'../up_bfgp/bfgp_pp/domains/aiplan4eu/action_models/synthesis/strips/gripper/pick/{i}.txt' for i in range(1, 21)]\n",
    "kwargs = dict({'mode': 'synthesis',\n",
    "               'theory': 'actions_strips',\n",
    "               'program': 'gripper_pick',\n",
    "               'evaluation_functions': [\"ilc\", \"mi\", \"cwed\"],\n",
    "               'translated_problem_dir': 'tmp_gripper_pick/'})\n",
    "\n",
    "print(f\"Does the pick action schema in Gripper be learned? {base_bfgp_call(domain_file=domain, problem_files=problems, args=kwargs)}\")"
   ],
   "metadata": {
    "collapsed": false
   },
   "id": "85469f7352e93c9b"
  },
  {
   "cell_type": "markdown",
   "source": [
    "From the execution above in the action STRIPS theory, only 58 out of 82 lines are required, and can be summarized as apply the effects (lines 54-56) if the preconditions (lines 0-53) hold in the current state. For more details about this target languages, we refer to our [ECAI'23 article](https://ebooks.iospress.nl/doi/10.3233/FAIA230502)."
   ],
   "metadata": {
    "collapsed": false
   },
   "id": "95ef08bd5a22aa38"
  },
  {
   "cell_type": "markdown",
   "source": [
    "## 4. Input Arguments\n",
    "\n",
    "Beyond the execution mode and target language, there are other input arguments which might be used to finetune the searching mechanism or structure the outputs. Here there is a list:\n",
    "- `program_lines` (integer): number of program lines\n",
    "- `program` (string): where to read or write a program file\n",
    "- `translated_problem_dir` (string): folder to write all output files\n",
    "- `evaluation_functions` (list of strings): list of evaluation functions, where nodes in the search are prioritized by smaller values on the left and breaking ties with the values on the right. Here we show some of the available evaluation functions:\n",
    "    * `ed`: Euclidean distance from the current state to a goal condition (aggregated over all input instances)\n",
    "    * `lc`: loop counter (number of goto or for instructions)\n",
    "    * `nei`: number of empty instructions in a program\n",
    "    * `mri`: the maximum among each number of instruction occurrences in a program\n",
    "    * `ilc`: negated loop counter (prioritizes programs with more loops)\n",
    "    * ...    \n",
    "- `num_extra_pointers` (integer): the number of pointers is computed by the maximum number of occurrences of each type in the action and predicate parameters, so they are increased by this value which is 0 by default. \n",
    "\n",
    "The following is an example that use all the parameters above:"
   ],
   "metadata": {
    "collapsed": false
   },
   "id": "8387d2cf7c907c8e"
  },
  {
   "cell_type": "code",
   "execution_count": null,
   "outputs": [],
   "source": [
    "\"\"\"Testing the BFGP++ solver can solve 50 first Miconic instances\"\"\"\n",
    "domain = '../tests/domains/miconic/domain.pddl'\n",
    "problems = [f'../tests/domains/miconic/training/easy/p{i:02}.pddl' for i in range(1, 51)]\n",
    "kwargs = dict({'mode': 'synthesis',\n",
    "               'theory': 'cpp',\n",
    "               'program_lines': 13,\n",
    "               'program': 'miconic',\n",
    "               'num_extra_pointers': 1,\n",
    "               'evaluation_functions': [\"ilc\", \"ed\"],\n",
    "               'translated_problem_dir': 'tmp_miconic/'})\n",
    "\n",
    "print(f\"Does a solution exist for Miconic? {base_bfgp_call(domain_file=domain, problem_files=problems, args=kwargs)}\")"
   ],
   "metadata": {
    "collapsed": false
   },
   "id": "e2c218e6dafed242"
  },
  {
   "cell_type": "markdown",
   "source": [],
   "metadata": {
    "collapsed": false
   },
   "id": "29cc45f09f0df848"
  }
 ],
 "metadata": {
  "kernelspec": {
   "display_name": "Python 3",
   "language": "python",
   "name": "python3"
  },
  "language_info": {
   "codemirror_mode": {
    "name": "ipython",
    "version": 2
   },
   "file_extension": ".py",
   "mimetype": "text/x-python",
   "name": "python",
   "nbconvert_exporter": "python",
   "pygments_lexer": "ipython2",
   "version": "2.7.6"
  }
 },
 "nbformat": 4,
 "nbformat_minor": 5
}
