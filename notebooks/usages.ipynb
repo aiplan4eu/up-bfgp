{
 "cells": [
  {
   "cell_type": "markdown",
   "source": [
    "# Using BFGP++ in the Unified Planning library\n",
    "\n",
    "In this notebook, we show the steps to take to compute generalized solutions for planning problems with the _BFGP++_ UP interface. These can be obtained from the combination of three different execution modes and several theories, to address STRIPS, program synthesis and action model learning benchmarks.   \n",
    "\n",
    "## 1. Installation"
   ],
   "metadata": {
    "collapsed": false
   },
   "id": "ab80417b058c49e9"
  },
  {
   "cell_type": "code",
   "execution_count": null,
   "outputs": [],
   "source": [
    "# Install a pip package in the current Jupyter kernel\n",
    "# source: https://jakevdp.github.io/blog/2017/12/05/installing-python-packages-from-jupyter/\n",
    "import sys\n",
    "\n",
    "# Update PIP\n",
    "!python3.10 -m pip install --upgrade pip\n",
    "\n",
    "# Download domains\n",
    "!wget https://raw.githubusercontent.com/aiplan4eu/up-bfgp/master/notebooks/download_domains.sh -O download_domains.sh\n",
    "!chmod +x download_domains.sh\n",
    "!./download_domains.sh\n",
    "\n",
    "# Install requirements \n",
    "!wget https://raw.githubusercontent.com/jsego/bfgp-pp/main/requirements.txt -O bfgp_pp_requirements.txt\n",
    "!python3.10 -m pip install -r bfgp_pp_requirements.txt\n",
    "!wget https://raw.githubusercontent.com/aiplan4eu/up-bfgp/master/requirements.txt -O up_bfgp_requirements.txt\n",
    "!python3.10 -m pip install -r up_bfgp_requirements.txt\n",
    "\n",
    "# Clone the Unified Planning (forked version) for Few-Shot planning\n",
    "!git clone https://github.com/jsego/unified-planning\n",
    "!python3.10 -m pip install unified-planning/\n",
    "\n",
    "# Install the UP-BFGP interface\n",
    "!python3.10 -m pip install up-bfgp\n"
   ],
   "metadata": {
    "collapsed": false
   },
   "id": "3efa5469bd759307"
  },
  {
   "cell_type": "markdown",
   "source": [
    "\n",
    "## 2. Execution modes\n",
    "\n",
    "The framework allows three different kinds of execution modes, `synthesis`, `validation` and `repair`. The next steps describe each mode and how to use them in a particular example for solving _Gripper_ domain.\n",
    "\n",
    "First let's import the required libraries:"
   ],
   "metadata": {
    "collapsed": false
   },
   "id": "f7c05a2973b21510"
  },
  {
   "cell_type": "code",
   "execution_count": null,
   "outputs": [],
   "source": [
    "from unified_planning.shortcuts import *  # type: ignore\n",
    "from unified_planning.plans import PlanKind  # type: ignore\n",
    "from unified_planning.engines.results import PlanGenerationResultStatus"
   ],
   "metadata": {
    "collapsed": false
   },
   "id": "4660e92a1bc8f53d"
  },
  {
   "cell_type": "markdown",
   "source": [
    "The execution of the framework requires a `domain_file` name, a list of `problem_files` names and the set of arguments (`args`) which depend on the executed mode. The following code serves as a base for calling _BFGP++_:"
   ],
   "metadata": {
    "collapsed": false
   },
   "id": "a58ea36ebfb6f27a"
  },
  {
   "cell_type": "code",
   "execution_count": null,
   "outputs": [],
   "source": [
    "def base_bfgp_call(domain_file: str, problem_files: List[str], args: dict):\n",
    "    with up.environment.get_environment().factory.FewshotPlanner(name='bfgp') as bfgp:\n",
    "        bfgp.set_arguments(**args)\n",
    "        bfgp_problems = bfgp.generate_problems(domain_file, problem_files)\n",
    "        # Compute the generalized plan for these input problems\n",
    "        result = bfgp.solve(bfgp_problems, output_stream=sys.stdout)\n",
    "        # Check whether all generated plans are satisficing\n",
    "        return all(r == PlanGenerationResultStatus.SOLVED_SATISFICING for r in result)"
   ],
   "metadata": {
    "collapsed": false
   },
   "id": "1df8f777ab00735a"
  },
  {
   "cell_type": "markdown",
   "source": [
    "This function assumes the domain and problems are existing files, however, they can also be implemented in Python code as shown in many other usage examples in the Unified Planning library. If the list of `problems` is implemented in Python instead of parsed from a file, _BFGP++_ can be directly called with the `bfgp.solve(problems)` command (i.e., skipping `bfgp.generate_problems(domain_file, problem_files)`) . "
   ],
   "metadata": {
    "collapsed": false
   },
   "id": "88cbcd4395c6b2e3"
  },
  {
   "cell_type": "markdown",
   "source": [
    "\n",
    "\n",
    "### 2.a. Synthesis\n",
    "\n",
    "This mode refers to the generation of a planning program given a domain and a set of planning instances in that domain. For instance, the _Gripper_ domain is defined by 3 sorts of objects (_room_, _ball_, and _gripper_); 4 predicates that refer to whether the robby is (_robby-at_), whether each ball is in a specific room (_at_), if a gripper is free (_free_) or if it is carrying a ball (_carry_); 2 sorts of constants which refer to _left_ and _right_ grippers, and rooms _A_ and _B_; and 3 action schemas that describe the picking and dropping of a ball with a gripper in a room, and an action for moving from one room to another one. Then, each _Gripper_ instance is initialized with the robby and all balls in room _A_ and the goal is to move all balls to room _B_. A general strategy to solve any problem consists of picking a ball, move to room _B_, drop it, move to room _A_, and repeat this procedure while there are still balls in room _A_. "
   ],
   "metadata": {
    "collapsed": false
   },
   "id": "28ae2c4ba05e20bd"
  },
  {
   "cell_type": "code",
   "execution_count": null,
   "outputs": [],
   "source": [
    "\"\"\"BFGP++ synthesizing a program that can solve 3 different Gripper instances\"\"\"\n",
    "domain = 'domains/gripper/domain.pddl'\n",
    "problems = [f'domains/gripper/p{i:02}.pddl' for i in range(1, 4)]\n",
    "kwargs = dict({'mode': 'synthesis',\n",
    "               'theory': 'cpp',\n",
    "               'program_lines': 10,\n",
    "               'program': 'gripper',\n",
    "               'translated_problem_dir': 'tmp/gripper/'})\n",
    "\n",
    "print(f\"Does a solution exist for Gripper? {base_bfgp_call(domain_file=domain, problem_files=problems, args=kwargs)}\")"
   ],
   "metadata": {
    "collapsed": false
   },
   "id": "d8538e17f6cfe43d"
  },
  {
   "cell_type": "markdown",
   "source": [
    "\n",
    "### 2.b. Validation\n",
    "\n",
    "In the `synthesis` mode example above, the Gripper solution is first found, then generates one plan per instance and validates those plans with the UP library. Now let's assume that we have the program, e.g. the Gripper solution, and we want to validate it over new planning instances, e.g. starting with 10 and 13 balls in room A, so we run the following command to validate the program:"
   ],
   "metadata": {
    "collapsed": false
   },
   "id": "eb14d5ee4255e060"
  },
  {
   "cell_type": "code",
   "execution_count": null,
   "outputs": [],
   "source": [
    "\"\"\"BFGP++ validating a program over 2 different and larger Gripper instances\"\"\"\n",
    "domain = 'domains/gripper/domain.pddl'\n",
    "problems = [f'domains/gripper/p{i:02}.pddl' for i in range(4, 6)]\n",
    "kwargs = dict({'mode': 'validation-prog',\n",
    "               'theory': 'cpp',\n",
    "               'program': 'gripper',\n",
    "               'translated_problem_dir': 'tmp/gripper/'})\n",
    "print(f\"Is the program valid over new Gripper instances? {base_bfgp_call(domain_file=domain, problem_files=problems, args=kwargs)}\")"
   ],
   "metadata": {
    "collapsed": false
   },
   "id": "e5d8f32ff5cc7981"
  },
  {
   "cell_type": "markdown",
   "source": [
    " \n",
    "\n",
    "### 2.c. Repair\n",
    "\n",
    "The two modes above can be interpreted as if the user has no knowledge at all about the solution (empty program, hence run `synthesis`) or full knowledge about it (full program is known, hence run `validation`). Thus, `repair` mode is an intermediate step between `synthesis` and `validation`, where some parts of the program may be known (also they are maybe wrong) and the system must repair them to get to a valid solution if one exists.  The following examples try to repair 3 different input programs where the first is all correct, in the second all loops are missing, and in the third all planning actions are missing:"
   ],
   "metadata": {
    "collapsed": false
   },
   "id": "f3299cee615603ed"
  },
  {
   "cell_type": "code",
   "execution_count": null,
   "outputs": [],
   "source": [
    "\"\"\"BFGP++ repairing (if needed) 3 Gripper programs for the same input instances\"\"\"\n",
    "domain = 'domains/gripper/domain.pddl'\n",
    "problems = [f'domains/gripper/p{i:02}.pddl' for i in range(1, 4)]\n",
    "\n",
    "# Example 1: the input program is correct\n",
    "kwargs = dict({'mode': 'repair',\n",
    "               'theory': 'cpp',\n",
    "               'program_lines': 10,\n",
    "               'program': 'domains/gripper/program_repair/gripper_cpp_ok',\n",
    "               'translated_problem_dir': 'tmp/gripper_ok/'})\n",
    "\n",
    "print(f\"Example 1 has been repaired? {base_bfgp_call(domain_file=domain, problem_files=problems, args=kwargs)}\")\n",
    "\n",
    "# Example 2: the input program has some missing loops\n",
    "kwargs = dict({'mode': 'repair',\n",
    "               'theory': 'cpp',\n",
    "               'program_lines': 10,\n",
    "               'program': 'domains/gripper/program_repair/gripper_cpp_missing_loops',\n",
    "               'translated_problem_dir': 'tmp/gripper_missing_loops/'})\n",
    "\n",
    "print(f\"Example 2 has been repaired? {base_bfgp_call(domain_file=domain, problem_files=problems, args=kwargs)}\")\n",
    "\n",
    "# Example 3: the input program has some missing planning action\n",
    "kwargs = dict({'mode': 'repair',\n",
    "               'theory': 'cpp',\n",
    "               'program_lines': 10,\n",
    "               'program': 'domains/gripper/program_repair/gripper_cpp_missing_planning_actions',\n",
    "               'translated_problem_dir': 'tmp/gripper_missing_planning_actions/'})\n",
    "\n",
    "print(f\"Example 3 has been repaired? {base_bfgp_call(domain_file=domain, problem_files=problems, args=kwargs)}\")"
   ],
   "metadata": {
    "collapsed": false
   },
   "id": "ef491db174caaf03"
  },
  {
   "cell_type": "markdown",
   "source": [
    "## 3. Input Arguments\n",
    "\n",
    "Beyond the execution mode, there are other input arguments which might be used to finetune the searching mechanism or structure the outputs. Here there is a list:\n",
    "- `theory` (string): language of the solution space, the following are supported:\n",
    "    * `assembler`: programs where looping and branching are goto instructions\n",
    "    * `cpp`:  programs are a restricted set of C++ where looping and branching are well-structured\n",
    "    * `actions_strips`: programs are STRIPS action schemas\n",
    "    * `actions_adl`: programs that extend STRIPS action schemas with quantified effects\n",
    "    * `actions_cell`: programs that represent 1D cellular automata transition functions\n",
    "    * `actions_ram`: programs that represent action schemas with looping and branching\n",
    "- `program_lines` (integer): number of program lines\n",
    "- `program` (string): where to read or write a program file\n",
    "- `translated_problem_dir` (string): folder to write all output files\n",
    "- `evaluation_functions` (list of strings): list of evaluation functions, where nodes in the search are prioritized by smaller values on the left and breaking ties with the values on the right. Here we show some of the available evaluation functions:\n",
    "    * `ed`: Euclidean distance from the current state to a goal condition (aggregated over all input instances)\n",
    "    * `lc`: loop counter (number of goto or for instructions)\n",
    "    * `nei`: number of empty instructions in a program\n",
    "    * `mri`: the maximum among each number of instruction occurrences in a program\n",
    "    * `ilc`: negated loop counter (prioritizes programs with more loops)\n",
    "    * ...    \n",
    "- `num_extra_pointers` (integer): the number of pointers is computed by the maximum number of occurrences of each type in the action and predicate parameters, so they are increased by this value which is 0 by default. \n",
    "\n",
    "Next we show three examples, one for each contributed benchmark, that use the input arguments described above:\n",
    "\n",
    "[STRIPS benchmarks](https://github.com/jsego/bfgp-pp/tree/main/domains/aiplan4eu/strips). These are the set of problems represented in STRIPS language plus negative preconditions. All the executions of the _Gripper_ domain above are of this kind, with the `cpp` theory. Now let's try to compute an assembly-like program for the same domain (note the setting update `'theory': 'assembler'`)"
   ],
   "metadata": {
    "collapsed": false
   },
   "id": "8387d2cf7c907c8e"
  },
  {
   "cell_type": "code",
   "execution_count": null,
   "outputs": [],
   "source": [
    "\"\"\"BFGP++ synthesizing an assembler-like program that can solve 3 different Gripper instances\"\"\"\n",
    "domain = 'domains/gripper/domain.pddl'\n",
    "problems = [f'domains/gripper/p{i:02}.pddl' for i in range(1, 4)]\n",
    "kwargs = dict({'mode': 'synthesis',\n",
    "               'theory': 'assembler',\n",
    "               'program_lines': 8,\n",
    "               'program': 'gripper',\n",
    "               'translated_problem_dir': 'tmp/gripper_assembler/',\n",
    "               'evaluation_functions': [\"ed\", \"lc\"]})\n",
    "\n",
    "print(f\"Does an assembly-like solution exist for Gripper? {base_bfgp_call(domain_file=domain, problem_files=problems, args=kwargs)}\")"
   ],
   "metadata": {
    "collapsed": false
   },
   "id": "e2c218e6dafed242"
  },
  {
   "cell_type": "markdown",
   "source": [
    "[Program Synthesis benchmarks](https://github.com/jsego/bfgp-pp/tree/main/domains/aiplan4eu/program_synthesis). These benchmarks extend STRIPS and negative preconditions with numerical state variables (i.e., integers) and operations over them like increase, decrease, add, subtract, smaller, greater and so on. We split them into two classes, the first focus on computing the n-th term of some sequence, e.g. Triangular Sum, and the second consists of list manipulation, e.g. Sorting. The following code exemplifies a call for Sorting domain that arranges any list of numbers in ascending order:"
   ],
   "metadata": {
    "collapsed": false
   },
   "id": "a9f163d82f8d3fa2"
  },
  {
   "cell_type": "code",
   "execution_count": null,
   "outputs": [],
   "source": [
    "\"\"\"BFGP++ synthesizing a Sorting algorithm given 10 instances with an arbitrary lists of numbers\"\"\"\n",
    "domain = 'domains/sorting/domain.txt'\n",
    "problems = [f'domains/sorting/{i}.txt' for i in range(1, 11)]\n",
    "kwargs = dict({'mode': 'synthesis',\n",
    "               'theory': 'cpp',\n",
    "               'program_lines': 8,\n",
    "               'program': 'sorting',\n",
    "               'translated_problem_dir': 'tmp/sorting/'})\n",
    "\n",
    "print(f\"Does a sorting algorithm of 8 lines exist? {base_bfgp_call(domain_file=domain, problem_files=problems, args=kwargs)}\")"
   ],
   "metadata": {
    "collapsed": false
   },
   "id": "d050a187b9dc8b9d"
  },
  {
   "cell_type": "markdown",
   "source": [
    "[Action Model Learning benchmarks](https://github.com/jsego/bfgp-pp/tree/main/domains/aiplan4eu/action_models). These benchmarks are similar to STRIPS with negative preconditions, but every instance represents a deterministic transition (pre-state is the initial state, and post-state is the goal), hence they need to include information about the executed action as a predicate, e.g. for picking a ball in room _A_ in the _Gripper_ domain, the following fact `(action_pick ball1 rooma right)` must appear in the initial state. The following shows an example for learning the picking action of _Gripper_ given 20 picking deterministic transitions."
   ],
   "metadata": {
    "collapsed": false
   },
   "id": "bbe243bec5de1ba7"
  },
  {
   "cell_type": "code",
   "execution_count": null,
   "outputs": [],
   "source": [
    "\"\"\"BFGP++ learning a STRIPS action model for picking balls in Gripper from the first 20 instances\"\"\"\n",
    "domain = 'domains/gripper/action_models/pick/domain.txt'\n",
    "problems = [f'domains/gripper/action_models/pick/{i}.txt' for i in range(1, 21)]\n",
    "kwargs = dict({'mode': 'synthesis',\n",
    "               'theory': 'actions_strips',\n",
    "               'program': 'gripper_pick',\n",
    "               'evaluation_functions': [\"ilc\", \"mi\", \"cwed\"],\n",
    "               'translated_problem_dir': 'tmp/gripper_pick/'})\n",
    "\n",
    "print(f\"Does the pick action schema in Gripper be learned? {base_bfgp_call(domain_file=domain, problem_files=problems, args=kwargs)}\")"
   ],
   "metadata": {
    "collapsed": false
   },
   "id": "1527f62b7aaf65d0"
  },
  {
   "cell_type": "markdown",
   "source": [
    "From the execution above in the action STRIPS theory, only 58 out of 82 lines are required, and can be summarized as apply the effects (lines 54-56) if the preconditions (lines 0-53) hold in the current state. For more details about these theories, we refer to our [ECAI'23 article](https://ebooks.iospress.nl/doi/10.3233/FAIA230502)."
   ],
   "metadata": {
    "collapsed": false
   },
   "id": "66189b0e5be6467"
  },
  {
   "cell_type": "markdown",
   "source": [],
   "metadata": {
    "collapsed": false
   },
   "id": "29cc45f09f0df848"
  }
 ],
 "metadata": {
  "kernelspec": {
   "display_name": "Python 3",
   "language": "python",
   "name": "python3"
  },
  "language_info": {
   "codemirror_mode": {
    "name": "ipython",
    "version": 2
   },
   "file_extension": ".py",
   "mimetype": "text/x-python",
   "name": "python",
   "nbconvert_exporter": "python",
   "pygments_lexer": "ipython2",
   "version": "2.7.6"
  }
 },
 "nbformat": 4,
 "nbformat_minor": 5
}
