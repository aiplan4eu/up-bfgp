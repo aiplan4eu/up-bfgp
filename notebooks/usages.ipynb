{
 "cells": [
  {
   "cell_type": "markdown",
   "source": [
    "# Using BFGP++ in the Unified Planning library\n",
    "\n",
    "In this notebook, we show the steps to take to compute generalized solutions for planning problems with the _BFGP++_ UP interface. These can be obtained from the combination of three different execution modes and several theories, to address STRIPS, program synthesis and action model learning benchmarks.   \n",
    "\n",
    "## 1. Installation"
   ],
   "metadata": {
    "collapsed": false
   },
   "id": "ab80417b058c49e9"
  },
  {
   "cell_type": "code",
   "execution_count": 39,
   "outputs": [
    {
     "name": "stdout",
     "output_type": "stream",
     "text": [
      "Requirement already satisfied: pip in /home/js/Desktop/software/AIPlan4EU/up-bfgp/venv/lib/python3.10/site-packages (23.3.1)\r\n",
      "--2023-11-06 14:07:14--  https://raw.githubusercontent.com/aiplan4eu/up-bfgp/master/requirements.txt\r\n",
      "Resolving raw.githubusercontent.com (raw.githubusercontent.com)... 185.199.111.133, 185.199.109.133, 185.199.108.133, ...\r\n",
      "Connecting to raw.githubusercontent.com (raw.githubusercontent.com)|185.199.111.133|:443... connected.\r\n",
      "HTTP request sent, awaiting response... 200 OK\r\n",
      "Length: 2056 (2.0K) [text/plain]\r\n",
      "Saving to: ‘requirements.txt’\r\n",
      "\r\n",
      "requirements.txt    100%[===================>]   2.01K  --.-KB/s    in 0s      \r\n",
      "\r\n",
      "Last-modified header missing -- time-stamps turned off.\r\n",
      "2023-11-06 14:07:14 (37.9 MB/s) - ‘requirements.txt’ saved [2056/2056]\r\n",
      "\r\n",
      "Requirement already satisfied: antlr4-python3-runtime==4.7.2 in /home/js/Desktop/software/AIPlan4EU/up-bfgp/venv/lib/python3.10/site-packages (from -r requirements.txt (line 1)) (4.7.2)\r\n",
      "Requirement already satisfied: anyio==4.0.0 in /home/js/Desktop/software/AIPlan4EU/up-bfgp/venv/lib/python3.10/site-packages (from -r requirements.txt (line 2)) (4.0.0)\r\n",
      "Requirement already satisfied: argon2-cffi==23.1.0 in /home/js/Desktop/software/AIPlan4EU/up-bfgp/venv/lib/python3.10/site-packages (from -r requirements.txt (line 3)) (23.1.0)\r\n",
      "Requirement already satisfied: argon2-cffi-bindings==21.2.0 in /home/js/Desktop/software/AIPlan4EU/up-bfgp/venv/lib/python3.10/site-packages (from -r requirements.txt (line 4)) (21.2.0)\r\n",
      "Requirement already satisfied: arrow==1.3.0 in /home/js/Desktop/software/AIPlan4EU/up-bfgp/venv/lib/python3.10/site-packages (from -r requirements.txt (line 5)) (1.3.0)\r\n",
      "Requirement already satisfied: asttokens==2.4.0 in /home/js/Desktop/software/AIPlan4EU/up-bfgp/venv/lib/python3.10/site-packages (from -r requirements.txt (line 6)) (2.4.0)\r\n",
      "Requirement already satisfied: async-lru==2.0.4 in /home/js/Desktop/software/AIPlan4EU/up-bfgp/venv/lib/python3.10/site-packages (from -r requirements.txt (line 7)) (2.0.4)\r\n",
      "Requirement already satisfied: attrs==23.1.0 in /home/js/Desktop/software/AIPlan4EU/up-bfgp/venv/lib/python3.10/site-packages (from -r requirements.txt (line 8)) (23.1.0)\r\n",
      "Requirement already satisfied: Babel==2.13.0 in /home/js/Desktop/software/AIPlan4EU/up-bfgp/venv/lib/python3.10/site-packages (from -r requirements.txt (line 9)) (2.13.0)\r\n",
      "Requirement already satisfied: backcall==0.2.0 in /home/js/Desktop/software/AIPlan4EU/up-bfgp/venv/lib/python3.10/site-packages (from -r requirements.txt (line 10)) (0.2.0)\r\n",
      "Requirement already satisfied: beautifulsoup4==4.12.2 in /home/js/Desktop/software/AIPlan4EU/up-bfgp/venv/lib/python3.10/site-packages (from -r requirements.txt (line 11)) (4.12.2)\r\n",
      "Requirement already satisfied: bleach==6.1.0 in /home/js/Desktop/software/AIPlan4EU/up-bfgp/venv/lib/python3.10/site-packages (from -r requirements.txt (line 12)) (6.1.0)\r\n",
      "Requirement already satisfied: certifi==2023.7.22 in /home/js/Desktop/software/AIPlan4EU/up-bfgp/venv/lib/python3.10/site-packages (from -r requirements.txt (line 13)) (2023.7.22)\r\n",
      "Requirement already satisfied: cffi==1.16.0 in /home/js/Desktop/software/AIPlan4EU/up-bfgp/venv/lib/python3.10/site-packages (from -r requirements.txt (line 14)) (1.16.0)\r\n",
      "Requirement already satisfied: charset-normalizer==3.3.0 in /home/js/Desktop/software/AIPlan4EU/up-bfgp/venv/lib/python3.10/site-packages (from -r requirements.txt (line 15)) (3.3.0)\r\n",
      "Requirement already satisfied: comm==0.1.4 in /home/js/Desktop/software/AIPlan4EU/up-bfgp/venv/lib/python3.10/site-packages (from -r requirements.txt (line 16)) (0.1.4)\r\n",
      "Requirement already satisfied: ConfigSpace==0.7.1 in /home/js/Desktop/software/AIPlan4EU/up-bfgp/venv/lib/python3.10/site-packages (from -r requirements.txt (line 17)) (0.7.1)\r\n",
      "Requirement already satisfied: debugpy==1.8.0 in /home/js/Desktop/software/AIPlan4EU/up-bfgp/venv/lib/python3.10/site-packages (from -r requirements.txt (line 18)) (1.8.0)\r\n",
      "Requirement already satisfied: decorator==5.1.1 in /home/js/Desktop/software/AIPlan4EU/up-bfgp/venv/lib/python3.10/site-packages (from -r requirements.txt (line 19)) (5.1.1)\r\n",
      "Requirement already satisfied: defusedxml==0.7.1 in /home/js/Desktop/software/AIPlan4EU/up-bfgp/venv/lib/python3.10/site-packages (from -r requirements.txt (line 20)) (0.7.1)\r\n",
      "Requirement already satisfied: exceptiongroup==1.1.2 in /home/js/Desktop/software/AIPlan4EU/up-bfgp/venv/lib/python3.10/site-packages (from -r requirements.txt (line 21)) (1.1.2)\r\n",
      "Requirement already satisfied: executing==2.0.0 in /home/js/Desktop/software/AIPlan4EU/up-bfgp/venv/lib/python3.10/site-packages (from -r requirements.txt (line 22)) (2.0.0)\r\n",
      "Requirement already satisfied: fastjsonschema==2.18.1 in /home/js/Desktop/software/AIPlan4EU/up-bfgp/venv/lib/python3.10/site-packages (from -r requirements.txt (line 23)) (2.18.1)\r\n",
      "Requirement already satisfied: fqdn==1.5.1 in /home/js/Desktop/software/AIPlan4EU/up-bfgp/venv/lib/python3.10/site-packages (from -r requirements.txt (line 24)) (1.5.1)\r\n",
      "Requirement already satisfied: idna==3.4 in /home/js/Desktop/software/AIPlan4EU/up-bfgp/venv/lib/python3.10/site-packages (from -r requirements.txt (line 25)) (3.4)\r\n",
      "Requirement already satisfied: iniconfig==2.0.0 in /home/js/Desktop/software/AIPlan4EU/up-bfgp/venv/lib/python3.10/site-packages (from -r requirements.txt (line 26)) (2.0.0)\r\n",
      "Requirement already satisfied: ipykernel==6.25.2 in /home/js/Desktop/software/AIPlan4EU/up-bfgp/venv/lib/python3.10/site-packages (from -r requirements.txt (line 27)) (6.25.2)\r\n",
      "Requirement already satisfied: ipython==8.16.1 in /home/js/Desktop/software/AIPlan4EU/up-bfgp/venv/lib/python3.10/site-packages (from -r requirements.txt (line 28)) (8.16.1)\r\n",
      "Requirement already satisfied: ipython-genutils==0.2.0 in /home/js/Desktop/software/AIPlan4EU/up-bfgp/venv/lib/python3.10/site-packages (from -r requirements.txt (line 29)) (0.2.0)\r\n",
      "Requirement already satisfied: ipywidgets==8.1.1 in /home/js/Desktop/software/AIPlan4EU/up-bfgp/venv/lib/python3.10/site-packages (from -r requirements.txt (line 30)) (8.1.1)\r\n",
      "Requirement already satisfied: isoduration==20.11.0 in /home/js/Desktop/software/AIPlan4EU/up-bfgp/venv/lib/python3.10/site-packages (from -r requirements.txt (line 31)) (20.11.0)\r\n",
      "Requirement already satisfied: jedi==0.19.1 in /home/js/Desktop/software/AIPlan4EU/up-bfgp/venv/lib/python3.10/site-packages (from -r requirements.txt (line 32)) (0.19.1)\r\n",
      "Requirement already satisfied: Jinja2==3.1.2 in /home/js/Desktop/software/AIPlan4EU/up-bfgp/venv/lib/python3.10/site-packages (from -r requirements.txt (line 33)) (3.1.2)\r\n",
      "Requirement already satisfied: json5==0.9.14 in /home/js/Desktop/software/AIPlan4EU/up-bfgp/venv/lib/python3.10/site-packages (from -r requirements.txt (line 34)) (0.9.14)\r\n",
      "Requirement already satisfied: jsonpointer==2.4 in /home/js/Desktop/software/AIPlan4EU/up-bfgp/venv/lib/python3.10/site-packages (from -r requirements.txt (line 35)) (2.4)\r\n",
      "Requirement already satisfied: jsonschema==4.19.1 in /home/js/Desktop/software/AIPlan4EU/up-bfgp/venv/lib/python3.10/site-packages (from -r requirements.txt (line 36)) (4.19.1)\r\n",
      "Requirement already satisfied: jsonschema-specifications==2023.7.1 in /home/js/Desktop/software/AIPlan4EU/up-bfgp/venv/lib/python3.10/site-packages (from -r requirements.txt (line 37)) (2023.7.1)\r\n",
      "Requirement already satisfied: jupyter==1.0.0 in /home/js/Desktop/software/AIPlan4EU/up-bfgp/venv/lib/python3.10/site-packages (from -r requirements.txt (line 38)) (1.0.0)\r\n",
      "Requirement already satisfied: jupyter-console==6.6.3 in /home/js/Desktop/software/AIPlan4EU/up-bfgp/venv/lib/python3.10/site-packages (from -r requirements.txt (line 39)) (6.6.3)\r\n",
      "Requirement already satisfied: jupyter-events==0.7.0 in /home/js/Desktop/software/AIPlan4EU/up-bfgp/venv/lib/python3.10/site-packages (from -r requirements.txt (line 40)) (0.7.0)\r\n",
      "Requirement already satisfied: jupyter-lsp==2.2.0 in /home/js/Desktop/software/AIPlan4EU/up-bfgp/venv/lib/python3.10/site-packages (from -r requirements.txt (line 41)) (2.2.0)\r\n",
      "Requirement already satisfied: jupyter_client==8.4.0 in /home/js/Desktop/software/AIPlan4EU/up-bfgp/venv/lib/python3.10/site-packages (from -r requirements.txt (line 42)) (8.4.0)\r\n",
      "Requirement already satisfied: jupyter_core==5.4.0 in /home/js/Desktop/software/AIPlan4EU/up-bfgp/venv/lib/python3.10/site-packages (from -r requirements.txt (line 43)) (5.4.0)\r\n",
      "Requirement already satisfied: jupyter_server==2.7.3 in /home/js/Desktop/software/AIPlan4EU/up-bfgp/venv/lib/python3.10/site-packages (from -r requirements.txt (line 44)) (2.7.3)\r\n",
      "Requirement already satisfied: jupyter_server_terminals==0.4.4 in /home/js/Desktop/software/AIPlan4EU/up-bfgp/venv/lib/python3.10/site-packages (from -r requirements.txt (line 45)) (0.4.4)\r\n",
      "Requirement already satisfied: jupyterlab==4.0.7 in /home/js/Desktop/software/AIPlan4EU/up-bfgp/venv/lib/python3.10/site-packages (from -r requirements.txt (line 46)) (4.0.7)\r\n",
      "Requirement already satisfied: jupyterlab-pygments==0.2.2 in /home/js/Desktop/software/AIPlan4EU/up-bfgp/venv/lib/python3.10/site-packages (from -r requirements.txt (line 47)) (0.2.2)\r\n",
      "Requirement already satisfied: jupyterlab-widgets==3.0.9 in /home/js/Desktop/software/AIPlan4EU/up-bfgp/venv/lib/python3.10/site-packages (from -r requirements.txt (line 48)) (3.0.9)\r\n",
      "Requirement already satisfied: jupyterlab_server==2.25.0 in /home/js/Desktop/software/AIPlan4EU/up-bfgp/venv/lib/python3.10/site-packages (from -r requirements.txt (line 49)) (2.25.0)\r\n",
      "Requirement already satisfied: MarkupSafe==2.1.3 in /home/js/Desktop/software/AIPlan4EU/up-bfgp/venv/lib/python3.10/site-packages (from -r requirements.txt (line 50)) (2.1.3)\r\n",
      "Requirement already satisfied: matplotlib-inline==0.1.6 in /home/js/Desktop/software/AIPlan4EU/up-bfgp/venv/lib/python3.10/site-packages (from -r requirements.txt (line 51)) (0.1.6)\r\n",
      "Requirement already satisfied: mistune==3.0.2 in /home/js/Desktop/software/AIPlan4EU/up-bfgp/venv/lib/python3.10/site-packages (from -r requirements.txt (line 52)) (3.0.2)\r\n",
      "Requirement already satisfied: more-itertools==10.1.0 in /home/js/Desktop/software/AIPlan4EU/up-bfgp/venv/lib/python3.10/site-packages (from -r requirements.txt (line 53)) (10.1.0)\r\n",
      "Requirement already satisfied: multipledispatch==0.6.0 in /home/js/Desktop/software/AIPlan4EU/up-bfgp/venv/lib/python3.10/site-packages (from -r requirements.txt (line 54)) (0.6.0)\r\n",
      "Requirement already satisfied: nbclient==0.8.0 in /home/js/Desktop/software/AIPlan4EU/up-bfgp/venv/lib/python3.10/site-packages (from -r requirements.txt (line 55)) (0.8.0)\r\n",
      "Requirement already satisfied: nbconvert==7.9.2 in /home/js/Desktop/software/AIPlan4EU/up-bfgp/venv/lib/python3.10/site-packages (from -r requirements.txt (line 56)) (7.9.2)\r\n",
      "Requirement already satisfied: nbformat==5.9.2 in /home/js/Desktop/software/AIPlan4EU/up-bfgp/venv/lib/python3.10/site-packages (from -r requirements.txt (line 57)) (5.9.2)\r\n",
      "Requirement already satisfied: nest-asyncio==1.5.8 in /home/js/Desktop/software/AIPlan4EU/up-bfgp/venv/lib/python3.10/site-packages (from -r requirements.txt (line 58)) (1.5.8)\r\n",
      "Requirement already satisfied: networkx==3.1 in /home/js/Desktop/software/AIPlan4EU/up-bfgp/venv/lib/python3.10/site-packages (from -r requirements.txt (line 59)) (3.1)\r\n",
      "Requirement already satisfied: notebook==7.0.5 in /home/js/Desktop/software/AIPlan4EU/up-bfgp/venv/lib/python3.10/site-packages (from -r requirements.txt (line 60)) (7.0.5)\r\n",
      "Requirement already satisfied: notebook_shim==0.2.3 in /home/js/Desktop/software/AIPlan4EU/up-bfgp/venv/lib/python3.10/site-packages (from -r requirements.txt (line 61)) (0.2.3)\r\n",
      "Requirement already satisfied: numpy==1.26.0 in /home/js/Desktop/software/AIPlan4EU/up-bfgp/venv/lib/python3.10/site-packages (from -r requirements.txt (line 62)) (1.26.0)\r\n",
      "Requirement already satisfied: overrides==7.4.0 in /home/js/Desktop/software/AIPlan4EU/up-bfgp/venv/lib/python3.10/site-packages (from -r requirements.txt (line 63)) (7.4.0)\r\n",
      "Requirement already satisfied: packaging==23.1 in /home/js/Desktop/software/AIPlan4EU/up-bfgp/venv/lib/python3.10/site-packages (from -r requirements.txt (line 64)) (23.1)\r\n",
      "Requirement already satisfied: pandocfilters==1.5.0 in /home/js/Desktop/software/AIPlan4EU/up-bfgp/venv/lib/python3.10/site-packages (from -r requirements.txt (line 65)) (1.5.0)\r\n",
      "Requirement already satisfied: parso==0.8.3 in /home/js/Desktop/software/AIPlan4EU/up-bfgp/venv/lib/python3.10/site-packages (from -r requirements.txt (line 66)) (0.8.3)\r\n",
      "Requirement already satisfied: pexpect==4.8.0 in /home/js/Desktop/software/AIPlan4EU/up-bfgp/venv/lib/python3.10/site-packages (from -r requirements.txt (line 67)) (4.8.0)\r\n",
      "Requirement already satisfied: pickleshare==0.7.5 in /home/js/Desktop/software/AIPlan4EU/up-bfgp/venv/lib/python3.10/site-packages (from -r requirements.txt (line 68)) (0.7.5)\r\n",
      "Requirement already satisfied: platformdirs==3.11.0 in /home/js/Desktop/software/AIPlan4EU/up-bfgp/venv/lib/python3.10/site-packages (from -r requirements.txt (line 69)) (3.11.0)\r\n",
      "Requirement already satisfied: pluggy==1.2.0 in /home/js/Desktop/software/AIPlan4EU/up-bfgp/venv/lib/python3.10/site-packages (from -r requirements.txt (line 70)) (1.2.0)\r\n",
      "Requirement already satisfied: prometheus-client==0.17.1 in /home/js/Desktop/software/AIPlan4EU/up-bfgp/venv/lib/python3.10/site-packages (from -r requirements.txt (line 71)) (0.17.1)\r\n",
      "Requirement already satisfied: prompt-toolkit==3.0.39 in /home/js/Desktop/software/AIPlan4EU/up-bfgp/venv/lib/python3.10/site-packages (from -r requirements.txt (line 72)) (3.0.39)\r\n",
      "Requirement already satisfied: psutil==5.9.5 in /home/js/Desktop/software/AIPlan4EU/up-bfgp/venv/lib/python3.10/site-packages (from -r requirements.txt (line 73)) (5.9.5)\r\n",
      "Requirement already satisfied: ptyprocess==0.7.0 in /home/js/Desktop/software/AIPlan4EU/up-bfgp/venv/lib/python3.10/site-packages (from -r requirements.txt (line 74)) (0.7.0)\r\n",
      "Requirement already satisfied: pure-eval==0.2.2 in /home/js/Desktop/software/AIPlan4EU/up-bfgp/venv/lib/python3.10/site-packages (from -r requirements.txt (line 75)) (0.2.2)\r\n",
      "Requirement already satisfied: pycparser==2.21 in /home/js/Desktop/software/AIPlan4EU/up-bfgp/venv/lib/python3.10/site-packages (from -r requirements.txt (line 76)) (2.21)\r\n",
      "Requirement already satisfied: Pygments==2.16.1 in /home/js/Desktop/software/AIPlan4EU/up-bfgp/venv/lib/python3.10/site-packages (from -r requirements.txt (line 77)) (2.16.1)\r\n",
      "Requirement already satisfied: pyparsing==3.1.0b2 in /home/js/Desktop/software/AIPlan4EU/up-bfgp/venv/lib/python3.10/site-packages (from -r requirements.txt (line 78)) (3.1.0b2)\r\n",
      "Requirement already satisfied: python-dateutil==2.8.2 in /home/js/Desktop/software/AIPlan4EU/up-bfgp/venv/lib/python3.10/site-packages (from -r requirements.txt (line 79)) (2.8.2)\r\n",
      "Requirement already satisfied: python-json-logger==2.0.7 in /home/js/Desktop/software/AIPlan4EU/up-bfgp/venv/lib/python3.10/site-packages (from -r requirements.txt (line 80)) (2.0.7)\r\n",
      "Requirement already satisfied: PyYAML==6.0.1 in /home/js/Desktop/software/AIPlan4EU/up-bfgp/venv/lib/python3.10/site-packages (from -r requirements.txt (line 81)) (6.0.1)\r\n",
      "Requirement already satisfied: pyzmq==25.1.1 in /home/js/Desktop/software/AIPlan4EU/up-bfgp/venv/lib/python3.10/site-packages (from -r requirements.txt (line 82)) (25.1.1)\r\n",
      "Requirement already satisfied: qtconsole==5.4.4 in /home/js/Desktop/software/AIPlan4EU/up-bfgp/venv/lib/python3.10/site-packages (from -r requirements.txt (line 83)) (5.4.4)\r\n",
      "Requirement already satisfied: QtPy==2.4.0 in /home/js/Desktop/software/AIPlan4EU/up-bfgp/venv/lib/python3.10/site-packages (from -r requirements.txt (line 84)) (2.4.0)\r\n",
      "Requirement already satisfied: referencing==0.30.2 in /home/js/Desktop/software/AIPlan4EU/up-bfgp/venv/lib/python3.10/site-packages (from -r requirements.txt (line 85)) (0.30.2)\r\n",
      "Requirement already satisfied: requests==2.31.0 in /home/js/Desktop/software/AIPlan4EU/up-bfgp/venv/lib/python3.10/site-packages (from -r requirements.txt (line 86)) (2.31.0)\r\n",
      "Requirement already satisfied: rfc3339-validator==0.1.4 in /home/js/Desktop/software/AIPlan4EU/up-bfgp/venv/lib/python3.10/site-packages (from -r requirements.txt (line 87)) (0.1.4)\r\n",
      "Requirement already satisfied: rfc3986-validator==0.1.1 in /home/js/Desktop/software/AIPlan4EU/up-bfgp/venv/lib/python3.10/site-packages (from -r requirements.txt (line 88)) (0.1.1)\r\n",
      "Requirement already satisfied: rpds-py==0.10.6 in /home/js/Desktop/software/AIPlan4EU/up-bfgp/venv/lib/python3.10/site-packages (from -r requirements.txt (line 89)) (0.10.6)\r\n",
      "Requirement already satisfied: scipy==1.11.3 in /home/js/Desktop/software/AIPlan4EU/up-bfgp/venv/lib/python3.10/site-packages (from -r requirements.txt (line 90)) (1.11.3)\r\n",
      "Requirement already satisfied: Send2Trash==1.8.2 in /home/js/Desktop/software/AIPlan4EU/up-bfgp/venv/lib/python3.10/site-packages (from -r requirements.txt (line 91)) (1.8.2)\r\n",
      "Requirement already satisfied: six==1.16.0 in /home/js/Desktop/software/AIPlan4EU/up-bfgp/venv/lib/python3.10/site-packages (from -r requirements.txt (line 92)) (1.16.0)\r\n",
      "Requirement already satisfied: sniffio==1.3.0 in /home/js/Desktop/software/AIPlan4EU/up-bfgp/venv/lib/python3.10/site-packages (from -r requirements.txt (line 93)) (1.3.0)\r\n",
      "Requirement already satisfied: soupsieve==2.5 in /home/js/Desktop/software/AIPlan4EU/up-bfgp/venv/lib/python3.10/site-packages (from -r requirements.txt (line 94)) (2.5)\r\n",
      "Requirement already satisfied: stack-data==0.6.3 in /home/js/Desktop/software/AIPlan4EU/up-bfgp/venv/lib/python3.10/site-packages (from -r requirements.txt (line 95)) (0.6.3)\r\n",
      "Requirement already satisfied: tarski==0.8.2 in /home/js/Desktop/software/AIPlan4EU/up-bfgp/venv/lib/python3.10/site-packages (from -r requirements.txt (line 96)) (0.8.2)\r\n",
      "Requirement already satisfied: terminado==0.17.1 in /home/js/Desktop/software/AIPlan4EU/up-bfgp/venv/lib/python3.10/site-packages (from -r requirements.txt (line 97)) (0.17.1)\r\n",
      "Requirement already satisfied: tinycss2==1.2.1 in /home/js/Desktop/software/AIPlan4EU/up-bfgp/venv/lib/python3.10/site-packages (from -r requirements.txt (line 98)) (1.2.1)\r\n",
      "Requirement already satisfied: tomli==2.0.1 in /home/js/Desktop/software/AIPlan4EU/up-bfgp/venv/lib/python3.10/site-packages (from -r requirements.txt (line 99)) (2.0.1)\r\n",
      "Requirement already satisfied: tornado==6.3.3 in /home/js/Desktop/software/AIPlan4EU/up-bfgp/venv/lib/python3.10/site-packages (from -r requirements.txt (line 100)) (6.3.3)\r\n",
      "Requirement already satisfied: traitlets==5.11.2 in /home/js/Desktop/software/AIPlan4EU/up-bfgp/venv/lib/python3.10/site-packages (from -r requirements.txt (line 101)) (5.11.2)\r\n",
      "Requirement already satisfied: types-python-dateutil==2.8.19.14 in /home/js/Desktop/software/AIPlan4EU/up-bfgp/venv/lib/python3.10/site-packages (from -r requirements.txt (line 102)) (2.8.19.14)\r\n",
      "Requirement already satisfied: typing_extensions==4.8.0 in /home/js/Desktop/software/AIPlan4EU/up-bfgp/venv/lib/python3.10/site-packages (from -r requirements.txt (line 103)) (4.8.0)\r\n",
      "Requirement already satisfied: uri-template==1.3.0 in /home/js/Desktop/software/AIPlan4EU/up-bfgp/venv/lib/python3.10/site-packages (from -r requirements.txt (line 104)) (1.3.0)\r\n",
      "Requirement already satisfied: urllib3==2.0.6 in /home/js/Desktop/software/AIPlan4EU/up-bfgp/venv/lib/python3.10/site-packages (from -r requirements.txt (line 105)) (2.0.6)\r\n",
      "Requirement already satisfied: wcwidth==0.2.8 in /home/js/Desktop/software/AIPlan4EU/up-bfgp/venv/lib/python3.10/site-packages (from -r requirements.txt (line 106)) (0.2.8)\r\n",
      "Requirement already satisfied: webcolors==1.13 in /home/js/Desktop/software/AIPlan4EU/up-bfgp/venv/lib/python3.10/site-packages (from -r requirements.txt (line 107)) (1.13)\r\n",
      "Requirement already satisfied: webencodings==0.5.1 in /home/js/Desktop/software/AIPlan4EU/up-bfgp/venv/lib/python3.10/site-packages (from -r requirements.txt (line 108)) (0.5.1)\r\n",
      "Requirement already satisfied: websocket-client==1.6.4 in /home/js/Desktop/software/AIPlan4EU/up-bfgp/venv/lib/python3.10/site-packages (from -r requirements.txt (line 109)) (1.6.4)\r\n",
      "Requirement already satisfied: widgetsnbextension==4.0.9 in /home/js/Desktop/software/AIPlan4EU/up-bfgp/venv/lib/python3.10/site-packages (from -r requirements.txt (line 110)) (4.0.9)\r\n",
      "fatal: destination path 'unified-planning' already exists and is not an empty directory.\r\n",
      "Processing ./unified-planning\r\n",
      "  Preparing metadata (setup.py) ... \u001B[?25ldone\r\n",
      "\u001B[?25hRequirement already satisfied: pyparsing in /home/js/Desktop/software/AIPlan4EU/up-bfgp/venv/lib/python3.10/site-packages (from unified-planning==1.0.0) (3.1.0b2)\r\n",
      "Requirement already satisfied: networkx in /home/js/Desktop/software/AIPlan4EU/up-bfgp/venv/lib/python3.10/site-packages (from unified-planning==1.0.0) (3.1)\r\n",
      "Requirement already satisfied: ConfigSpace in /home/js/Desktop/software/AIPlan4EU/up-bfgp/venv/lib/python3.10/site-packages (from unified-planning==1.0.0) (0.7.1)\r\n",
      "Requirement already satisfied: numpy in /home/js/Desktop/software/AIPlan4EU/up-bfgp/venv/lib/python3.10/site-packages (from ConfigSpace->unified-planning==1.0.0) (1.26.0)\r\n",
      "Requirement already satisfied: scipy in /home/js/Desktop/software/AIPlan4EU/up-bfgp/venv/lib/python3.10/site-packages (from ConfigSpace->unified-planning==1.0.0) (1.11.3)\r\n",
      "Requirement already satisfied: typing-extensions in /home/js/Desktop/software/AIPlan4EU/up-bfgp/venv/lib/python3.10/site-packages (from ConfigSpace->unified-planning==1.0.0) (4.8.0)\r\n",
      "Requirement already satisfied: more-itertools in /home/js/Desktop/software/AIPlan4EU/up-bfgp/venv/lib/python3.10/site-packages (from ConfigSpace->unified-planning==1.0.0) (10.1.0)\r\n",
      "Building wheels for collected packages: unified-planning\r\n",
      "  Building wheel for unified-planning (setup.py) ... \u001B[?25ldone\r\n",
      "\u001B[?25h  Created wheel for unified-planning: filename=unified_planning-1.0.0-py3-none-any.whl size=644793 sha256=8b5db105edc80f7664732d2b03407294b76ca735757f0ee7859a2732cfaba12d\r\n",
      "  Stored in directory: /home/js/.cache/pip/wheels/0f/90/8f/fd1afdd97f3bd8613251cbb51f955abd2d6c46865d56b96e73\r\n",
      "Successfully built unified-planning\r\n",
      "Installing collected packages: unified-planning\r\n",
      "  Attempting uninstall: unified-planning\r\n",
      "    Found existing installation: unified-planning 1.0.0\r\n",
      "    Uninstalling unified-planning-1.0.0:\r\n",
      "      Successfully uninstalled unified-planning-1.0.0\r\n",
      "Successfully installed unified-planning-1.0.0\r\n",
      "Requirement already satisfied: up-bfgp in /home/js/Desktop/software/AIPlan4EU/up-bfgp (0.1.0)\r\n"
     ]
    }
   ],
   "source": [
    "# Install a pip package in the current Jupyter kernel\n",
    "# source: https://jakevdp.github.io/blog/2017/12/05/installing-python-packages-from-jupyter/\n",
    "import sys\n",
    "\n",
    "# Update PIP\n",
    "!{sys.executable} -m pip install --upgrade pip\n",
    "\n",
    "# Install requirements \n",
    "!wget -N https://raw.githubusercontent.com/aiplan4eu/up-bfgp/master/requirements.txt\n",
    "!{sys.executable} -m pip install -r requirements.txt\n",
    "\n",
    "# Clone the Unified Planning (forked version) for Few-Shot planning\n",
    "!git clone https://github.com/jsego/unified-planning\n",
    "!{sys.executable} -m pip install unified-planning/\n",
    "\n",
    "# Install the UP-BFGP interface\n",
    "!{sys.executable} -m pip install up-bfgp\n"
   ],
   "metadata": {
    "collapsed": false,
    "ExecuteTime": {
     "end_time": "2023-11-06T13:07:20.504490656Z",
     "start_time": "2023-11-06T13:07:12.888336786Z"
    }
   },
   "id": "3efa5469bd759307"
  },
  {
   "cell_type": "markdown",
   "source": [
    "\n",
    "## 2. Execution modes\n",
    "\n",
    "The framework allows three different kinds of execution modes, `synthesis`, `validation` and `repair`. The next steps describes each mode and how to use them in a particular example for solving _Gripper_ domain.\n",
    "\n",
    "First let's import the required libraries:"
   ],
   "metadata": {
    "collapsed": false
   },
   "id": "f7c05a2973b21510"
  },
  {
   "cell_type": "code",
   "execution_count": null,
   "outputs": [],
   "source": [
    "from unified_planning.shortcuts import *  # type: ignore\n",
    "from unified_planning.plans import PlanKind  # type: ignore\n",
    "from unified_planning.engines.results import PlanGenerationResultStatus"
   ],
   "metadata": {
    "collapsed": false
   },
   "id": "4660e92a1bc8f53d"
  },
  {
   "cell_type": "markdown",
   "source": [
    "The execution of the framework requires a `domain_file` name, a list of `problem_files` names and the set of arguments (`args`) which depend on the executed mode. The following code serve as a base for calling _BFGP++_:"
   ],
   "metadata": {
    "collapsed": false
   },
   "id": "a58ea36ebfb6f27a"
  },
  {
   "cell_type": "code",
   "execution_count": null,
   "outputs": [],
   "source": [
    "def base_bfgp_call(domain_file: str, problem_files: List[str], args: dict):\n",
    "    with up.environment.get_environment().factory.FewshotPlanner(name='bfgp') as bfgp:\n",
    "        bfgp.set_arguments(**args)\n",
    "        bfgp_problems = bfgp.generate_problems(domain_file, problem_files)\n",
    "        # Compute the generalized plan for these input problems\n",
    "        result = bfgp.solve(bfgp_problems, output_stream=sys.stdout)\n",
    "        # Check whether all generated plans are satisficing\n",
    "        return all(r == PlanGenerationResultStatus.SOLVED_SATISFICING for r in result)"
   ],
   "metadata": {
    "collapsed": false
   },
   "id": "1df8f777ab00735a"
  },
  {
   "cell_type": "markdown",
   "source": [
    "This function assumes the domain and problems are existing files, however, they can also be implemented in Python code as shown in many other usage examples in the Unified Planning library. If the list of `problems` is implemented in Python instead of parsed from a file, _BFGP++_ can be directly called with the `bfgp.solve(problems)` command (i.e., skipping `bfgp.generate_problems(domain_file, problem_files)`) . "
   ],
   "metadata": {
    "collapsed": false
   },
   "id": "88cbcd4395c6b2e3"
  },
  {
   "cell_type": "markdown",
   "source": [
    "\n",
    "\n",
    "### 2.a. Synthesis\n",
    "\n",
    "This mode refers to the generation of a planning program given a domain and a set of planning instances in that domain. For instance, the _Gripper_ domain is defined by 3 sorts of objects (_room_, _ball_, and _gripper_); 4 predicates that refer to whether the robby is (_robby-at_), whether each ball is in a specific room (_at_), if a gripper is free (_free_) or if it is carrying a ball (_carry_); 2 sorts of constants which refer to _left_ and _right_ grippers, and rooms _A_ and _B_; and 3 action schemas that describe the picking and dropping of a ball with a gripper in a room, and an action for moving from one room to another one. Then, each _Gripper_ instance is initialized with the robby and all balls in room _A_ and the goal is to move all balls to room _B_. A general strategy to solve any problem consists of picking a ball, move to room _B_, drop it, move to room _A_, and repeat this procedure while there are still balls in room _A_. "
   ],
   "metadata": {
    "collapsed": false
   },
   "id": "28ae2c4ba05e20bd"
  },
  {
   "cell_type": "code",
   "execution_count": null,
   "outputs": [],
   "source": [
    "\"\"\"BFGP++ synthesizing a program that can solve 3 different Gripper instances\"\"\"\n",
    "domain = 'domains/gripper/domain.pddl'\n",
    "problems = [f'domains/gripper/p{i:02}.pddl' for i in range(1, 4)]\n",
    "kwargs = dict({'mode': 'synthesis',\n",
    "               'theory': 'cpp',\n",
    "               'program_lines': 10,\n",
    "               'program': 'gripper',\n",
    "               'translated_problem_dir': 'tmp/gripper/'})\n",
    "\n",
    "print(f\"Does a solution exist for Gripper? {base_bfgp_call(domain_file=domain, problem_files=problems, args=kwargs)}\")"
   ],
   "metadata": {
    "collapsed": false
   },
   "id": "d8538e17f6cfe43d"
  },
  {
   "cell_type": "markdown",
   "source": [
    "\n",
    "### 2.b. Validation\n",
    "\n",
    "In the `synthesis` mode example above, the Gripper solution is first found, then generates one plan per instance and validates those plans with the UP library. Now let's assume that we have the program, e.g. the Gripper solution, and we want to validate it over new planning instances, e.g. starting with 10 and 13 balls in room A, so we run the following command to validate the program:"
   ],
   "metadata": {
    "collapsed": false
   },
   "id": "eb14d5ee4255e060"
  },
  {
   "cell_type": "code",
   "execution_count": null,
   "outputs": [],
   "source": [
    "\"\"\"BFGP++ validating a program over 2 different and larger Gripper instances\"\"\"\n",
    "domain = 'domains/gripper/domain.pddl'\n",
    "problems = [f'domains/gripper/p{i:02}.pddl' for i in range(4, 6)]\n",
    "kwargs = dict({'mode': 'validation-prog',\n",
    "               'theory': 'cpp',\n",
    "               'program': 'gripper',\n",
    "               'translated_problem_dir': 'tmp/gripper/'})\n",
    "print(f\"Is the program valid over new Gripper instances? {base_bfgp_call(domain_file=domain, problem_files=problems, args=kwargs)}\")"
   ],
   "metadata": {
    "collapsed": false
   },
   "id": "e5d8f32ff5cc7981"
  },
  {
   "cell_type": "markdown",
   "source": [
    " \n",
    "\n",
    "### 2.c. Repair\n",
    "\n",
    "The two modes above can be interpreted as if the user has no knowledge at all about the solution (empty program, hence run `synthesis`) or full knowledge about it (full program is known, hence run `validation`). Thus, `repair` mode is an intermediate step between `synthesis` and `validation`, where some parts of the program may be known (also they are maybe wrong) and the system must repair them to get to a valid solution if one exists.  The following examples try to repair 3 different input programs where the first is all correct, in the second all loops are missing, and in the third all planning actions are missing:"
   ],
   "metadata": {
    "collapsed": false
   },
   "id": "f3299cee615603ed"
  },
  {
   "cell_type": "code",
   "execution_count": null,
   "outputs": [],
   "source": [
    "\"\"\"BFGP++ repairing (if needed) 3 Gripper programs for the same input instances\"\"\"\n",
    "domain = 'domains/gripper/domain.pddl'\n",
    "problems = [f'domains/gripper/p{i:02}.pddl' for i in range(1, 4)]\n",
    "\n",
    "# Example 1: the input program is correct\n",
    "kwargs = dict({'mode': 'repair',\n",
    "               'theory': 'cpp',\n",
    "               'program_lines': 10,\n",
    "               'program': 'domains/gripper/program_repair/gripper_cpp_ok',\n",
    "               'translated_problem_dir': 'tmp/gripper_ok/'})\n",
    "\n",
    "print(f\"Example 1 has been repaired? {base_bfgp_call(domain_file=domain, problem_files=problems, args=kwargs)}\")\n",
    "\n",
    "# Example 2: the input program has some missing loops\n",
    "kwargs = dict({'mode': 'repair',\n",
    "               'theory': 'cpp',\n",
    "               'program_lines': 10,\n",
    "               'program': 'domains/gripper/program_repair/gripper_cpp_missing_loops',\n",
    "               'translated_problem_dir': 'tmp/gripper_missing_loops/'})\n",
    "\n",
    "print(f\"Example 2 has been repaired? {base_bfgp_call(domain_file=domain, problem_files=problems, args=kwargs)}\")\n",
    "\n",
    "# Example 3: the input program has some missing planning action\n",
    "kwargs = dict({'mode': 'repair',\n",
    "               'theory': 'cpp',\n",
    "               'program_lines': 10,\n",
    "               'program': 'domains/gripper/program_repair/gripper_cpp_missing_planning_actions',\n",
    "               'translated_problem_dir': 'tmp/gripper_missing_planning_actions/'})\n",
    "\n",
    "print(f\"Example 3 has been repaired? {base_bfgp_call(domain_file=domain, problem_files=problems, args=kwargs)}\")"
   ],
   "metadata": {
    "collapsed": false
   },
   "id": "ef491db174caaf03"
  },
  {
   "cell_type": "markdown",
   "source": [
    "## 3. Input Arguments\n",
    "\n",
    "Beyond the execution mode, there are other input arguments which might be used to finetune the searching mechanism or structure the outputs. Here there is a list:\n",
    "- `theory` (string): language of the solution space, the following are supported:\n",
    "    * `assembler`: programs where looping and branching are goto instructions\n",
    "    * `cpp`:  programs are a restricted set of C++ where looping and branching are well-structured\n",
    "    * `actions_strips`: programs are STRIPS action schemas\n",
    "    * `actions_adl`: programs that extend STRIPS action schemas with quantified effects\n",
    "    * `actions_cell`: programs that represent 1D cellular automata transition functions\n",
    "    * `actions_ram`: programs that represent action schemas with looping and branching\n",
    "- `program_lines` (integer): number of program lines\n",
    "- `program` (string): where to read or write a program file\n",
    "- `translated_problem_dir` (string): folder to write all output files\n",
    "- `evaluation_functions` (list of strings): list of evaluation functions, where nodes in the search are prioritized by smaller values on the left and breaking ties with the values on the right. Here we show some of the available evaluation functions:\n",
    "    * `ed`: Euclidean distance from the current state to a goal condition (aggregated over all input instances)\n",
    "    * `lc`: loop counter (number of goto or for instructions)\n",
    "    * `nei`: number of empty instructions in a program\n",
    "    * `mri`: the maximum among each number of instruction occurrences in a program\n",
    "    * `ilc`: negated loop counter (prioritizes programs with more loops)\n",
    "    * ...    \n",
    "- `num_extra_pointers` (integer): the number of pointers is computed by the maximum number of occurrences of each type in the action and predicate parameters, so they are increased by this value which is 0 by default. \n",
    "\n",
    "Next we show three examples, one for each contributed benchmark, that use the input arguments described above:\n",
    "\n",
    "[STRIPS benchmarks](https://github.com/jsego/bfgp-pp/tree/main/domains/aiplan4eu/strips). These are the set of problems represented in STRIPS language plus negative preconditions. All the executions of the _Gripper_ domain above are of this kind, with the `cpp` theory. Now let's try to compute an assembly-like program for the same domain (note the setting update `'theory': 'assembler'`)"
   ],
   "metadata": {
    "collapsed": false
   },
   "id": "8387d2cf7c907c8e"
  },
  {
   "cell_type": "code",
   "execution_count": null,
   "outputs": [],
   "source": [
    "\"\"\"BFGP++ synthesizing an assembler-like program that can solve 3 different Gripper instances\"\"\"\n",
    "domain = 'domains/gripper/domain.pddl'\n",
    "problems = [f'domains/gripper/p{i:02}.pddl' for i in range(1, 4)]\n",
    "kwargs = dict({'mode': 'synthesis',\n",
    "               'theory': 'assembler',\n",
    "               'program_lines': 8,\n",
    "               'program': 'gripper',\n",
    "               'translated_problem_dir': 'tmp/gripper_assembler/',\n",
    "               'evaluation_functions': [\"ed\", \"lc\"]})\n",
    "\n",
    "print(f\"Does an assembly-like solution exist for Gripper? {base_bfgp_call(domain_file=domain, problem_files=problems, args=kwargs)}\")"
   ],
   "metadata": {
    "collapsed": false
   },
   "id": "e2c218e6dafed242"
  },
  {
   "cell_type": "markdown",
   "source": [
    "[Program Synthesis benchmarks](https://github.com/jsego/bfgp-pp/tree/main/domains/aiplan4eu/program_synthesis). These benchmarks extend STRIPS and negative preconditions with numerical state variables (i.e., integers) and operations over them like increase, decrease, add, subtract, smaller, greater and so on. We split them into two classes, the first focus on computing the n-th term of some sequence, e.g. Triangular Sum, and the second consists of list manipulation, e.g. Sorting. The following code exemplifies a call for Sorting domain that arranges any list of numbers in ascending order:"
   ],
   "metadata": {
    "collapsed": false
   },
   "id": "a9f163d82f8d3fa2"
  },
  {
   "cell_type": "code",
   "execution_count": null,
   "outputs": [],
   "source": [
    "\"\"\"BFGP++ synthesizing a Sorting algorithm given 10 instances with an arbitrary lists of numbers\"\"\"\n",
    "domain = 'domains/sorting/domain.txt'\n",
    "problems = [f'domains/sorting/{i}.txt' for i in range(1, 11)]\n",
    "kwargs = dict({'mode': 'synthesis',\n",
    "               'theory': 'cpp',\n",
    "               'program_lines': 8,\n",
    "               'program': 'sorting',\n",
    "               'translated_problem_dir': 'tmp/sorting/'})\n",
    "\n",
    "print(f\"Does a sorting algorithm of 8 lines exist? {base_bfgp_call(domain_file=domain, problem_files=problems, args=kwargs)}\")"
   ],
   "metadata": {
    "collapsed": false
   },
   "id": "d050a187b9dc8b9d"
  },
  {
   "cell_type": "markdown",
   "source": [
    "[Action Model Learning benchmarks](https://github.com/jsego/bfgp-pp/tree/main/domains/aiplan4eu/action_models). These benchmarks are similar to STRIPS with negative preconditions, but every instance represents a deterministic transition (pre-state is the initial state, and post-state is the goal), hence they need to include information about the executed action as a predicate, e.g. for picking a ball in room _A_ in the _Gripper_ domain, the following fact `(action_pick ball1 rooma right)` must appear in the initial state. The following shows an example for learning the picking action of _Gripper_ given 20 picking deterministic transitions."
   ],
   "metadata": {
    "collapsed": false
   },
   "id": "bbe243bec5de1ba7"
  },
  {
   "cell_type": "code",
   "execution_count": null,
   "outputs": [],
   "source": [
    "\"\"\"BFGP++ learning a STRIPS action model for picking balls in Gripper from the first 20 instances\"\"\"\n",
    "domain = 'domains/gripper/action_models/pick/domain.txt'\n",
    "problems = [f'domains/gripper/action_models/pick/{i}.txt' for i in range(1, 21)]\n",
    "kwargs = dict({'mode': 'synthesis',\n",
    "               'theory': 'actions_strips',\n",
    "               'program': 'gripper_pick',\n",
    "               'evaluation_functions': [\"ilc\", \"mi\", \"cwed\"],\n",
    "               'translated_problem_dir': 'tmp/gripper_pick/'})\n",
    "\n",
    "print(f\"Does the pick action schema in Gripper be learned? {base_bfgp_call(domain_file=domain, problem_files=problems, args=kwargs)}\")"
   ],
   "metadata": {
    "collapsed": false
   },
   "id": "1527f62b7aaf65d0"
  },
  {
   "cell_type": "markdown",
   "source": [
    "From the execution above in the action STRIPS theory, only 58 out of 82 lines are required, and can be summarized as apply the effects (lines 54-56) if the preconditions (lines 0-53) hold in the current state. For more details about these theories, we refer to our [ECAI'23 article](https://ebooks.iospress.nl/doi/10.3233/FAIA230502)."
   ],
   "metadata": {
    "collapsed": false
   },
   "id": "66189b0e5be6467"
  },
  {
   "cell_type": "markdown",
   "source": [],
   "metadata": {
    "collapsed": false
   },
   "id": "29cc45f09f0df848"
  }
 ],
 "metadata": {
  "kernelspec": {
   "display_name": "Python 3",
   "language": "python",
   "name": "python3"
  },
  "language_info": {
   "codemirror_mode": {
    "name": "ipython",
    "version": 2
   },
   "file_extension": ".py",
   "mimetype": "text/x-python",
   "name": "python",
   "nbconvert_exporter": "python",
   "pygments_lexer": "ipython2",
   "version": "2.7.6"
  }
 },
 "nbformat": 4,
 "nbformat_minor": 5
}
