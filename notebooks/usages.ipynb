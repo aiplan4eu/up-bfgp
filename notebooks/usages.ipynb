{
 "cells": [
  {
   "cell_type": "markdown",
   "source": [
    "# Using BFGP++ in the Unified Planning framework\n",
    "\n",
    "## Installation\n",
    "(Show how to install the interface with pip commands)\n",
    "\n",
    "## Execution modes\n",
    "\n",
    "(Short description of the 3 modes accepted in the system)\n",
    "(Run the following examples from Python code instead of parsing PDDL)\n",
    "(Describe the Gripper example before the modes)\n",
    "\n",
    "First let's import the required libraries:"
   ],
   "metadata": {
    "collapsed": false
   },
   "id": "f7c05a2973b21510"
  },
  {
   "cell_type": "code",
   "execution_count": 27,
   "outputs": [],
   "source": [
    "from unified_planning.shortcuts import *  # type: ignore\n",
    "from unified_planning.plans import PlanKind  # type: ignore\n",
    "from unified_planning.engines.results import PlanGenerationResultStatus"
   ],
   "metadata": {
    "collapsed": false,
    "ExecuteTime": {
     "end_time": "2023-10-26T13:17:22.479898026Z",
     "start_time": "2023-10-26T13:17:22.447421895Z"
    }
   },
   "id": "4660e92a1bc8f53d"
  },
  {
   "cell_type": "markdown",
   "source": [
    "The execution of the framework requires a `domain_file` name, a list of `problem_files` names and the set of arguments (`args`) which depend on the executed mode. The following code serve as a base for calling _BFGP++_:"
   ],
   "metadata": {
    "collapsed": false
   },
   "id": "a58ea36ebfb6f27a"
  },
  {
   "cell_type": "code",
   "execution_count": 28,
   "outputs": [],
   "source": [
    "def base_bfgp_call(domain_file: str, problem_files: List[str], args: dict):\n",
    "    with up.environment.get_environment().factory.FewshotPlanner(name='bfgp') as bfgp:\n",
    "        bfgp.set_arguments(**args)\n",
    "        problems = bfgp.generate_problems(domain_file, problem_files)\n",
    "        # Compute the generalized plan for these input problems\n",
    "        result = bfgp.solve(problems, output_stream=sys.stdout)\n",
    "        # Check whether all generated plans are satisficing\n",
    "        return all(r == PlanGenerationResultStatus.SOLVED_SATISFICING for r in result)"
   ],
   "metadata": {
    "collapsed": false,
    "ExecuteTime": {
     "end_time": "2023-10-26T13:17:22.481604799Z",
     "start_time": "2023-10-26T13:17:22.454713534Z"
    }
   },
   "id": "1df8f777ab00735a"
  },
  {
   "cell_type": "markdown",
   "source": [
    "This function assumes the domain and problems are existing files, however, they can also be implemented in Python code as shown in many other usage examples in the Unified Planning library. Once the list of `problems` is implemented (instead of parsed), _BFGP++_ can be directly called with the `bfgp.solve(problems)` command. "
   ],
   "metadata": {
    "collapsed": false
   },
   "id": "88cbcd4395c6b2e3"
  },
  {
   "cell_type": "markdown",
   "source": [
    "\n",
    "\n",
    "### Synthesis\n",
    "\n",
    "This mode refers to the generation of a planning program given a domain and a set of planning instances in that domain. For instance, the _Gripper_ domain is defined by 3 sorts of objects (_room_, _ball_, and _gripper_); 4 predicates that refer to whether the robby is (_robby-at_), whether each ball is in a specific room (_at_), if a gripper is free (_free_) or if it is carrying a ball (_carry_); 2 sorts of constants which refer to _left_ and _right_ grippers, and rooms _A_ and _B_; and 3 action schemas to describe ..."
   ],
   "metadata": {
    "collapsed": false
   },
   "id": "28ae2c4ba05e20bd"
  },
  {
   "cell_type": "code",
   "execution_count": 29,
   "outputs": [
    {
     "name": "stderr",
     "output_type": "stream",
     "text": [
      "WARNING:root:Domain names as declared in domain and instance files do not coincide: \"gripper_7-domain\" vs \" gripper_1-domain\"\n",
      "WARNING:root:Domain names as declared in domain and instance files do not coincide: \"gripper_7-domain\" vs \" gripper_4-domain\"\n"
     ]
    },
    {
     "name": "stdout",
     "output_type": "stream",
     "text": [
      "/home/js/Desktop/software/AIPlan4EU/up-bfgp/up_bfgp/bfgp_pp/main.bin -m synthesis -t cpp -f tmp_gripper/ -s 0 -l 10 -o tmp_gripper//gripper -pgp True\n",
      "[INFO] Parsed domain. [0.000s]\n",
      "[INFO] Building theory: cpp\n",
      "[INFO] Generalized Domain created. [0.000s]\n",
      "[INFO] Infinite detection: deactivated\n",
      "[INFO] Generalized Planning Problem created. [0.000s]\n",
      "[INFO] Evaluation function ed added.\n",
      "[INFO] Evaluation function ilc added.\n",
      "[INFO] Engine created. [0.000s]\n",
      "[INFO] Searching...\n",
      "[ENGINE]\n",
      "Node id=0\n",
      "Expanded=1\n",
      "Evaluated=1\n",
      "Open queue size=0\n",
      "[NODE]: f1=1 f2=0\n",
      "0. empty\n",
      "1. empty\n",
      "2. empty\n",
      "3. empty\n",
      "4. empty\n",
      "5. empty\n",
      "6. empty\n",
      "7. empty\n",
      "8. empty\n",
      "9. end\n",
      "\n",
      "[ENGINE]\n",
      "Node id=1\n",
      "Expanded=2\n",
      "Evaluated=87\n",
      "Open queue size=85\n",
      "[NODE]: f1=1 f2=-1\n",
      "0. for(ptr_ball_0++,8)\n",
      "1. empty\n",
      "2. empty\n",
      "3. empty\n",
      "4. empty\n",
      "5. empty\n",
      "6. empty\n",
      "7. empty\n",
      "8. endfor(ptr_ball_0++,0)\n",
      "9. end\n",
      "\n",
      "[ENGINE]\n",
      "Node id=87\n",
      "Expanded=3\n",
      "Evaluated=145\n",
      "Open queue size=142\n",
      "[NODE]: f1=1 f2=-2\n",
      "0. for(ptr_ball_0++,8)\n",
      "1. for(ptr_gripper_0++,7)\n",
      "2. empty\n",
      "3. empty\n",
      "4. empty\n",
      "5. empty\n",
      "6. empty\n",
      "7. endfor(ptr_gripper_0++,1)\n",
      "8. endfor(ptr_ball_0++,0)\n",
      "9. end\n",
      "\n",
      "[ENGINE]\n",
      "Node id=145\n",
      "Expanded=4\n",
      "Evaluated=183\n",
      "Open queue size=179\n",
      "[NODE]: f1=1 f2=-3\n",
      "0. for(ptr_ball_0++,8)\n",
      "1. for(ptr_gripper_0++,7)\n",
      "2. for(ptr_room_0++,6)\n",
      "3. empty\n",
      "4. empty\n",
      "5. empty\n",
      "6. endfor(ptr_room_0++,2)\n",
      "7. endfor(ptr_gripper_0++,1)\n",
      "8. endfor(ptr_ball_0++,0)\n",
      "9. end\n",
      "\n",
      "[ENGINE]\n",
      "Node id=183\n",
      "Expanded=5\n",
      "Evaluated=208\n",
      "Open queue size=203\n",
      "[NODE]: f1=1 f2=-4\n",
      "0. for(ptr_ball_0++,8)\n",
      "1. for(ptr_gripper_0++,7)\n",
      "2. for(ptr_room_0++,6)\n",
      "3. for(ptr_room_1++,5)\n",
      "4. empty\n",
      "5. endfor(ptr_room_1++,3)\n",
      "6. endfor(ptr_room_0++,2)\n",
      "7. endfor(ptr_gripper_0++,1)\n",
      "8. endfor(ptr_ball_0++,0)\n",
      "9. end\n",
      "\n",
      "[INFO] Solution candidate!\n",
      "[NODE]: f1=0 f2=-3\n",
      "0. for(ptr_ball_0++,8)\n",
      "1. for(ptr_gripper_0++,7)\n",
      "2. for(ptr_room_0++,6)\n",
      "3. move(ptr_room_1,ptr_room_0)\n",
      "4. drop(ptr_ball_0,ptr_room_0,ptr_gripper_0)\n",
      "5. pick(ptr_ball_0,ptr_room_1,ptr_gripper_0)\n",
      "6. endfor(ptr_room_0++,2)\n",
      "7. endfor(ptr_gripper_0++,1)\n",
      "8. endfor(ptr_ball_0++,0)\n",
      "9. end\n",
      "[INFO] Failure on instance 2 reevaluating...  done!\n",
      "[INFO] Solution candidate!\n",
      "[NODE]: f1=0 f2=-3\n",
      "0. for(ptr_ball_0++,8)\n",
      "1. for(ptr_room_0++,7)\n",
      "2. for(ptr_room_1++,6)\n",
      "3. move(ptr_room_0,ptr_room_1)\n",
      "4. drop(ptr_ball_0,ptr_room_1,ptr_gripper_0)\n",
      "5. pick(ptr_ball_0,ptr_room_0,ptr_gripper_0)\n",
      "6. endfor(ptr_room_1++,2)\n",
      "7. endfor(ptr_room_0++,1)\n",
      "8. endfor(ptr_ball_0++,0)\n",
      "9. end\n",
      "[INFO] SOLUTION FOUND!!!\n",
      "0. for(ptr_ball_0++,8)\n",
      "1. for(ptr_room_0++,7)\n",
      "2. for(ptr_room_1++,6)\n",
      "3. move(ptr_room_0,ptr_room_1)\n",
      "4. drop(ptr_ball_0,ptr_room_1,ptr_gripper_0)\n",
      "5. pick(ptr_ball_0,ptr_room_0,ptr_gripper_0)\n",
      "6. endfor(ptr_room_1++,2)\n",
      "7. endfor(ptr_room_0++,1)\n",
      "8. endfor(ptr_ball_0++,0)\n",
      "9. end\n",
      "\n",
      "[INFO] Number of instances: 3\n",
      "[INFO] Expanded: 3214\n",
      "[INFO] Evaluated: 5577\n",
      "[INFO] Total plan costs: 60\n",
      "[INFO] Total number of instructions: 267\n",
      "[INFO] Search time: [0.689s]\n",
      "[INFO] Total time: [0.689s]\n",
      "[INFO] Program file: tmp_gripper//gripper.prog\n",
      "[INFO] Experiments file: tmp_gripper//gripper.out\n"
     ]
    },
    {
     "name": "stderr",
     "output_type": "stream",
     "text": [
      "WARNING:root:Domain names as declared in domain and instance files do not coincide: \"gripper_7-domain\" vs \" gripper_1-domain\"\n",
      "WARNING:root:Domain names as declared in domain and instance files do not coincide: \"gripper_7-domain\" vs \" gripper_4-domain\"\n"
     ]
    },
    {
     "name": "stdout",
     "output_type": "stream",
     "text": [
      "/home/js/Desktop/software/AIPlan4EU/up-bfgp/up_bfgp/bfgp_pp/main.bin -m validation-prog -t cpp -f tmp_gripper/ -s 0 -p tmp_gripper//gripper.prog  -o tmp_gripper/  -plans True\n",
      "[INFO] Parsed domain. [0.000s]\n",
      "[INFO] Building theory: cpp\n",
      "[INFO] Generalized Domain created. [0.000s]\n",
      "[INFO] Infinite detection: deactivated\n",
      "[INFO] Generalized Planning Problem created. [0.000s]\n",
      "[INFO] Program loaded: [0.000s]\n",
      "[INFO] Read program:\n",
      "0. for(ptr_ball_0++,8)\n",
      "1. for(ptr_room_0++,7)\n",
      "2. for(ptr_room_1++,6)\n",
      "3. move(ptr_room_0,ptr_room_1)\n",
      "4. drop(ptr_ball_0,ptr_room_1,ptr_gripper_0)\n",
      "5. pick(ptr_ball_0,ptr_room_0,ptr_gripper_0)\n",
      "6. endfor(ptr_room_1++,2)\n",
      "7. endfor(ptr_room_0++,1)\n",
      "8. endfor(ptr_ball_0++,0)\n",
      "9. end\n",
      "\n",
      "[INFO] Number of instances: 3\n",
      "[INFO] GOAL ACHIEVED!\n",
      "[INFO] Total time: [0.001s]\n",
      "Does a solution exist for Gripper? True\n"
     ]
    }
   ],
   "source": [
    "    \"\"\"BFGP++ synthesizing a program that can solve 3 different Gripper instances\"\"\"\n",
    "    domain = '../tests/domains/gripper/domain.pddl'\n",
    "    problems = [f'../tests/domains/gripper/p{i:02}.pddl' for i in range(1, 4)]\n",
    "    kwargs = dict({'mode': 'synthesis',\n",
    "                   'theory': 'cpp',\n",
    "                   'program_lines': 10,\n",
    "                   'program': 'gripper',\n",
    "                   'translated_problem_dir': 'tmp_gripper/'})\n",
    "\n",
    "    print(f\"Does a solution exist for Gripper? {base_bfgp_call(domain_file=domain, problem_files=problems, args=kwargs)}\")"
   ],
   "metadata": {
    "collapsed": false,
    "ExecuteTime": {
     "end_time": "2023-10-26T13:17:24.093822308Z",
     "start_time": "2023-10-26T13:17:22.510744025Z"
    }
   },
   "id": "d8538e17f6cfe43d"
  },
  {
   "cell_type": "markdown",
   "source": [
    "\n",
    "### Validation\n",
    "\n",
    "In the `synthesis` mode example above, the Gripper solution is first found, then generates one plan per instance and validates those plans with the UP library. Now let's assume that we have the program, e.g. the Gripper solution, and we want to validate it over new planning instances, e.g. starting with 10 and 13 balls in room A, so we run the following command to validate the program:"
   ],
   "metadata": {
    "collapsed": false
   },
   "id": "eb14d5ee4255e060"
  },
  {
   "cell_type": "code",
   "execution_count": 30,
   "outputs": [
    {
     "name": "stderr",
     "output_type": "stream",
     "text": [
      "WARNING:root:Domain names as declared in domain and instance files do not coincide: \"gripper_13-domain\" vs \" gripper_10-domain\"\n"
     ]
    },
    {
     "name": "stdout",
     "output_type": "stream",
     "text": [
      "/home/js/Desktop/software/AIPlan4EU/up-bfgp/up_bfgp/bfgp_pp/main.bin -m validation-prog -t cpp -f tmp_gripper/ -s 0 -p tmp_gripper//gripper.prog  -o tmp_gripper/  -plans True\n",
      "[INFO] Parsed domain. [0.000s]\n",
      "[INFO] Building theory: cpp\n",
      "[INFO] Generalized Domain created. [0.000s]\n",
      "[INFO] Infinite detection: deactivated\n",
      "[INFO] Generalized Planning Problem created. [0.000s]\n",
      "[INFO] Program loaded: [0.000s]\n",
      "[INFO] Read program:\n",
      "0. for(ptr_ball_0++,8)\n",
      "1. for(ptr_room_0++,7)\n",
      "2. for(ptr_room_1++,6)\n",
      "3. move(ptr_room_0,ptr_room_1)\n",
      "4. drop(ptr_ball_0,ptr_room_1,ptr_gripper_0)\n",
      "5. pick(ptr_ball_0,ptr_room_0,ptr_gripper_0)\n",
      "6. endfor(ptr_room_1++,2)\n",
      "7. endfor(ptr_room_0++,1)\n",
      "8. endfor(ptr_ball_0++,0)\n",
      "9. end\n",
      "\n",
      "[INFO] Number of instances: 2\n",
      "[INFO] GOAL ACHIEVED!\n",
      "[INFO] Total time: [0.001s]\n",
      "Is the program valid over new Gripper instances? True\n"
     ]
    }
   ],
   "source": [
    "\"\"\"BFGP++ validating a program over 2 different and larger Gripper instances\"\"\"\n",
    "domain = '../tests/domains/gripper/domain.pddl'\n",
    "problems = [f'../tests/domains/gripper/p{i:02}.pddl' for i in range(4, 6)]\n",
    "kwargs = dict({'mode': 'validation-prog',\n",
    "               'theory': 'cpp',\n",
    "               'program': 'gripper',\n",
    "               'translated_problem_dir': 'tmp_gripper/'})\n",
    "print(f\"Is the program valid over new Gripper instances? {base_bfgp_call(domain_file=domain, problem_files=problems, args=kwargs)}\")"
   ],
   "metadata": {
    "collapsed": false,
    "ExecuteTime": {
     "end_time": "2023-10-26T13:17:24.559535028Z",
     "start_time": "2023-10-26T13:17:24.093691606Z"
    }
   },
   "id": "e5d8f32ff5cc7981"
  },
  {
   "cell_type": "markdown",
   "source": [
    " \n",
    "\n",
    "### Repair\n",
    "\n",
    "The two modes above can be interpreted as if the user has no knowledge at all about the solution (empty program, hence run `synthesis`) or full knowledge about it (full program is known, hence run `validation`). Thus, `repair` mode is an intermediate step between `synthesis` and `validation`, where some parts of the program may be known (also they are maybe wrong) and the system must repair them to get to a valid solution if one exists.  The following examples try to repair 3 different input programs where the first is all correct, in the second all loops are missing, and in the third all planning actions are missing:"
   ],
   "metadata": {
    "collapsed": false
   },
   "id": "f3299cee615603ed"
  },
  {
   "cell_type": "code",
   "execution_count": 31,
   "outputs": [
    {
     "name": "stderr",
     "output_type": "stream",
     "text": [
      "WARNING:root:Domain names as declared in domain and instance files do not coincide: \"gripper_7-domain\" vs \" gripper_1-domain\"\n",
      "WARNING:root:Domain names as declared in domain and instance files do not coincide: \"gripper_7-domain\" vs \" gripper_4-domain\"\n"
     ]
    },
    {
     "name": "stdout",
     "output_type": "stream",
     "text": [
      "/home/js/Desktop/software/AIPlan4EU/up-bfgp/up_bfgp/bfgp_pp/main.bin -m repair -t cpp -f tmp_gripper_ok/ -s 0 -l 10  -p ../tests/domains/gripper/program_repair/gripper_cpp_ok.prog  -o tmp_gripper_ok/  -pgp True\n",
      "[INFO] Parsed domain. [0.000s]\n",
      "[INFO] Building theory: cpp\n",
      "[INFO] Generalized Domain created. [0.000s]\n",
      "[INFO] Infinite detection: deactivated\n",
      "[INFO] Generalized Planning Problem created. [0.000s]\n",
      "[INFO] Evaluation function ed added.\n",
      "[INFO] Evaluation function ilc added.\n",
      "[INFO] Engine created. [0.000s]\n",
      "[INFO] Searching...\n",
      "[INFO] SOLUTION FOUND!!!\n",
      "0. for(ptr_ball_0++,6)\n",
      "1. pick(ptr_ball_0,ptr_room_0,ptr_gripper_0)\n",
      "2. inc(ptr_room_1)\n",
      "3. move(ptr_room_0,ptr_room_1)\n",
      "4. drop(ptr_ball_0,ptr_room_1,ptr_gripper_0)\n",
      "5. move(ptr_room_1,ptr_room_0)\n",
      "6. endfor(ptr_ball_0++,0)\n",
      "7. end\n",
      "\n",
      "[INFO] Number of instances: 3\n",
      "[INFO] Expanded: 0\n",
      "[INFO] Evaluated: 1\n",
      "[INFO] Total plan costs: 48\n",
      "[INFO] Total number of instructions: 75\n",
      "[INFO] Search time: [0.000s]\n",
      "[INFO] Total time: [0.000s]\n",
      "[INFO] Program file: tmp_gripper_ok/gripper_cpp_ok.prog\n",
      "[INFO] Experiments file: tmp_gripper_ok/gripper_cpp_ok.out\n"
     ]
    },
    {
     "name": "stderr",
     "output_type": "stream",
     "text": [
      "WARNING:root:Domain names as declared in domain and instance files do not coincide: \"gripper_7-domain\" vs \" gripper_1-domain\"\n",
      "WARNING:root:Domain names as declared in domain and instance files do not coincide: \"gripper_7-domain\" vs \" gripper_4-domain\"\n"
     ]
    },
    {
     "name": "stdout",
     "output_type": "stream",
     "text": [
      "/home/js/Desktop/software/AIPlan4EU/up-bfgp/up_bfgp/bfgp_pp/main.bin -m validation-prog -t cpp -f tmp_gripper_ok/ -s 0 -p tmp_gripper_ok//gripper_cpp_ok.prog  -o tmp_gripper_ok/  -plans True\n",
      "[INFO] Parsed domain. [0.000s]\n",
      "[INFO] Building theory: cpp\n",
      "[INFO] Generalized Domain created. [0.000s]\n",
      "[INFO] Infinite detection: deactivated\n",
      "[INFO] Generalized Planning Problem created. [0.000s]\n",
      "[INFO] Program loaded: [0.000s]\n",
      "[INFO] Read program:\n",
      "0. for(ptr_ball_0++,6)\n",
      "1. pick(ptr_ball_0,ptr_room_0,ptr_gripper_0)\n",
      "2. inc(ptr_room_1)\n",
      "3. move(ptr_room_0,ptr_room_1)\n",
      "4. drop(ptr_ball_0,ptr_room_1,ptr_gripper_0)\n",
      "5. move(ptr_room_1,ptr_room_0)\n",
      "6. endfor(ptr_ball_0++,0)\n",
      "7. end\n",
      "\n",
      "[INFO] Number of instances: 3\n",
      "[INFO] GOAL ACHIEVED!\n",
      "[INFO] Total time: [0.001s]\n",
      "Example 1 has been repaired? True\n"
     ]
    },
    {
     "name": "stderr",
     "output_type": "stream",
     "text": [
      "WARNING:root:Domain names as declared in domain and instance files do not coincide: \"gripper_7-domain\" vs \" gripper_1-domain\"\n",
      "WARNING:root:Domain names as declared in domain and instance files do not coincide: \"gripper_7-domain\" vs \" gripper_4-domain\"\n"
     ]
    },
    {
     "name": "stdout",
     "output_type": "stream",
     "text": [
      "/home/js/Desktop/software/AIPlan4EU/up-bfgp/up_bfgp/bfgp_pp/main.bin -m repair -t cpp -f tmp_gripper_missing_loops/ -s 0 -l 10  -p ../tests/domains/gripper/program_repair/gripper_cpp_missing_loops.prog  -o tmp_gripper_missing_loops/  -pgp True\n",
      "[INFO] Parsed domain. [0.000s]\n",
      "[INFO] Building theory: cpp\n",
      "[INFO] Generalized Domain created. [0.000s]\n",
      "[INFO] Infinite detection: deactivated\n",
      "[INFO] Generalized Planning Problem created. [0.000s]\n",
      "[INFO] Evaluation function ed added.\n",
      "[INFO] Evaluation function ilc added.\n",
      "[INFO] Engine created. [0.000s]\n",
      "[INFO] Searching...\n",
      "[ENGINE]\n",
      "Node id=0\n",
      "Expanded=1\n",
      "Evaluated=6\n",
      "Open queue size=5\n",
      "[NODE]: f1=1 f2=0\n",
      "0. empty\n",
      "1. pick(ptr_ball_0,ptr_room_0,ptr_gripper_0)\n",
      "2. inc(ptr_room_1)\n",
      "3. move(ptr_room_0,ptr_room_1)\n",
      "4. drop(ptr_ball_0,ptr_room_1,ptr_gripper_0)\n",
      "5. move(ptr_room_1,ptr_room_0)\n",
      "6. empty\n",
      "7. end\n",
      "\n",
      "[INFO] Solution candidate!\n",
      "[NODE]: f1=0 f2=-1\n",
      "0. for(ptr_ball_0++,6)\n",
      "1. pick(ptr_ball_0,ptr_room_0,ptr_gripper_0)\n",
      "2. inc(ptr_room_1)\n",
      "3. move(ptr_room_0,ptr_room_1)\n",
      "4. drop(ptr_ball_0,ptr_room_1,ptr_gripper_0)\n",
      "5. move(ptr_room_1,ptr_room_0)\n",
      "6. endfor(ptr_ball_0++,0)\n",
      "7. end\n",
      "[INFO] SOLUTION FOUND!!!\n",
      "0. for(ptr_ball_0++,6)\n",
      "1. pick(ptr_ball_0,ptr_room_0,ptr_gripper_0)\n",
      "2. inc(ptr_room_1)\n",
      "3. move(ptr_room_0,ptr_room_1)\n",
      "4. drop(ptr_ball_0,ptr_room_1,ptr_gripper_0)\n",
      "5. move(ptr_room_1,ptr_room_0)\n",
      "6. endfor(ptr_ball_0++,0)\n",
      "7. end\n",
      "\n",
      "[INFO] Number of instances: 3\n",
      "[INFO] Expanded: 1\n",
      "[INFO] Evaluated: 7\n",
      "[INFO] Total plan costs: 48\n",
      "[INFO] Total number of instructions: 75\n",
      "[INFO] Search time: [0.000s]\n",
      "[INFO] Total time: [0.001s]\n",
      "[INFO] Program file: tmp_gripper_missing_loops/gripper_cpp_missing_loops.prog\n",
      "[INFO] Experiments file: tmp_gripper_missing_loops/gripper_cpp_missing_loops.out\n"
     ]
    },
    {
     "name": "stderr",
     "output_type": "stream",
     "text": [
      "WARNING:root:Domain names as declared in domain and instance files do not coincide: \"gripper_7-domain\" vs \" gripper_1-domain\"\n",
      "WARNING:root:Domain names as declared in domain and instance files do not coincide: \"gripper_7-domain\" vs \" gripper_4-domain\"\n"
     ]
    },
    {
     "name": "stdout",
     "output_type": "stream",
     "text": [
      "/home/js/Desktop/software/AIPlan4EU/up-bfgp/up_bfgp/bfgp_pp/main.bin -m validation-prog -t cpp -f tmp_gripper_missing_loops/ -s 0 -p tmp_gripper_missing_loops//gripper_cpp_missing_loops.prog  -o tmp_gripper_missing_loops/  -plans True\n",
      "[INFO] Parsed domain. [0.000s]\n",
      "[INFO] Building theory: cpp\n",
      "[INFO] Generalized Domain created. [0.000s]\n",
      "[INFO] Infinite detection: deactivated\n",
      "[INFO] Generalized Planning Problem created. [0.000s]\n",
      "[INFO] Program loaded: [0.000s]\n",
      "[INFO] Read program:\n",
      "0. for(ptr_ball_0++,6)\n",
      "1. pick(ptr_ball_0,ptr_room_0,ptr_gripper_0)\n",
      "2. inc(ptr_room_1)\n",
      "3. move(ptr_room_0,ptr_room_1)\n",
      "4. drop(ptr_ball_0,ptr_room_1,ptr_gripper_0)\n",
      "5. move(ptr_room_1,ptr_room_0)\n",
      "6. endfor(ptr_ball_0++,0)\n",
      "7. end\n",
      "\n",
      "[INFO] Number of instances: 3\n",
      "[INFO] GOAL ACHIEVED!\n",
      "[INFO] Total time: [0.001s]\n",
      "Example 2 has been repaired? True\n"
     ]
    },
    {
     "name": "stderr",
     "output_type": "stream",
     "text": [
      "WARNING:root:Domain names as declared in domain and instance files do not coincide: \"gripper_7-domain\" vs \" gripper_1-domain\"\n",
      "WARNING:root:Domain names as declared in domain and instance files do not coincide: \"gripper_7-domain\" vs \" gripper_4-domain\"\n"
     ]
    },
    {
     "name": "stdout",
     "output_type": "stream",
     "text": [
      "/home/js/Desktop/software/AIPlan4EU/up-bfgp/up_bfgp/bfgp_pp/main.bin -m repair -t cpp -f tmp_gripper_missing_planning_actions/ -s 0 -l 10  -p ../tests/domains/gripper/program_repair/gripper_cpp_missing_planning_actions.prog  -o tmp_gripper_missing_planning_actions/  -pgp True\n",
      "[INFO] Parsed domain. [0.000s]\n",
      "[INFO] Building theory: cpp\n",
      "[INFO] Generalized Domain created. [0.000s]\n",
      "[INFO] Infinite detection: deactivated\n",
      "[INFO] Generalized Planning Problem created. [0.000s]\n",
      "[INFO] Evaluation function ed added.\n",
      "[INFO] Evaluation function ilc added.\n",
      "[INFO] Engine created. [0.000s]\n",
      "[INFO] Searching...\n",
      "[ENGINE]\n",
      "Node id=0\n",
      "Expanded=1\n",
      "Evaluated=2\n",
      "Open queue size=1\n",
      "[NODE]: f1=1 f2=-1\n",
      "0. for(ptr_ball_0++,6)\n",
      "1. empty\n",
      "2. empty\n",
      "3. empty\n",
      "4. empty\n",
      "5. empty\n",
      "6. endfor(ptr_ball_0++,0)\n",
      "7. end\n",
      "\n",
      "[ENGINE]\n",
      "Node id=2\n",
      "Expanded=2\n",
      "Evaluated=48\n",
      "Open queue size=46\n",
      "[NODE]: f1=1 f2=-2\n",
      "0. for(ptr_ball_0++,6)\n",
      "1. for(ptr_gripper_0++,5)\n",
      "2. empty\n",
      "3. empty\n",
      "4. empty\n",
      "5. endfor(ptr_gripper_0++,1)\n",
      "6. endfor(ptr_ball_0++,0)\n",
      "7. end\n",
      "\n",
      "[ENGINE]\n",
      "Node id=48\n",
      "Expanded=3\n",
      "Evaluated=78\n",
      "Open queue size=75\n",
      "[NODE]: f1=1 f2=-3\n",
      "0. for(ptr_ball_0++,6)\n",
      "1. for(ptr_gripper_0++,5)\n",
      "2. for(ptr_room_0++,4)\n",
      "3. empty\n",
      "4. endfor(ptr_room_0++,2)\n",
      "5. endfor(ptr_gripper_0++,1)\n",
      "6. endfor(ptr_ball_0++,0)\n",
      "7. end\n",
      "\n",
      "[INFO] Solution candidate!\n",
      "[NODE]: f1=0 f2=-2\n",
      "0. for(ptr_ball_0++,6)\n",
      "1. for(ptr_room_0++,5)\n",
      "2. move(ptr_room_1,ptr_room_0)\n",
      "3. drop(ptr_ball_0,ptr_room_0,ptr_gripper_0)\n",
      "4. pick(ptr_ball_0,ptr_room_1,ptr_gripper_0)\n",
      "5. endfor(ptr_room_0++,1)\n",
      "6. endfor(ptr_ball_0++,0)\n",
      "7. end\n",
      "[INFO] Failure on instance 2 reevaluating...  done!\n",
      "[INFO] Solution candidate!\n",
      "[NODE]: f1=0 f2=-1\n",
      "0. for(ptr_ball_0++,6)\n",
      "1. pick(ptr_ball_0,ptr_room_0,ptr_gripper_0)\n",
      "2. inc(ptr_room_1)\n",
      "3. move(ptr_room_0,ptr_room_1)\n",
      "4. drop(ptr_ball_0,ptr_room_1,ptr_gripper_0)\n",
      "5. move(ptr_room_1,ptr_room_0)\n",
      "6. endfor(ptr_ball_0++,0)\n",
      "7. end\n",
      "[INFO] SOLUTION FOUND!!!\n",
      "0. for(ptr_ball_0++,6)\n",
      "1. pick(ptr_ball_0,ptr_room_0,ptr_gripper_0)\n",
      "2. inc(ptr_room_1)\n",
      "3. move(ptr_room_0,ptr_room_1)\n",
      "4. drop(ptr_ball_0,ptr_room_1,ptr_gripper_0)\n",
      "5. move(ptr_room_1,ptr_room_0)\n",
      "6. endfor(ptr_ball_0++,0)\n",
      "7. end\n",
      "\n",
      "[INFO] Number of instances: 3\n",
      "[INFO] Expanded: 7299\n",
      "[INFO] Evaluated: 24335\n",
      "[INFO] Total plan costs: 48\n",
      "[INFO] Total number of instructions: 75\n",
      "[INFO] Search time: [1.299s]\n",
      "[INFO] Total time: [1.300s]\n",
      "[INFO] Program file: tmp_gripper_missing_planning_actions/gripper_cpp_missing_planning_actions.prog\n",
      "[INFO] Experiments file: tmp_gripper_missing_planning_actions/gripper_cpp_missing_planning_actions.out\n"
     ]
    },
    {
     "name": "stderr",
     "output_type": "stream",
     "text": [
      "WARNING:root:Domain names as declared in domain and instance files do not coincide: \"gripper_7-domain\" vs \" gripper_1-domain\"\n",
      "WARNING:root:Domain names as declared in domain and instance files do not coincide: \"gripper_7-domain\" vs \" gripper_4-domain\"\n"
     ]
    },
    {
     "name": "stdout",
     "output_type": "stream",
     "text": [
      "/home/js/Desktop/software/AIPlan4EU/up-bfgp/up_bfgp/bfgp_pp/main.bin -m validation-prog -t cpp -f tmp_gripper_missing_planning_actions/ -s 0 -p tmp_gripper_missing_planning_actions//gripper_cpp_missing_planning_actions.prog  -o tmp_gripper_missing_planning_actions/  -plans True\n",
      "[INFO] Parsed domain. [0.000s]\n",
      "[INFO] Building theory: cpp\n",
      "[INFO] Generalized Domain created. [0.000s]\n",
      "[INFO] Infinite detection: deactivated\n",
      "[INFO] Generalized Planning Problem created. [0.000s]\n",
      "[INFO] Program loaded: [0.000s]\n",
      "[INFO] Read program:\n",
      "0. for(ptr_ball_0++,6)\n",
      "1. pick(ptr_ball_0,ptr_room_0,ptr_gripper_0)\n",
      "2. inc(ptr_room_1)\n",
      "3. move(ptr_room_0,ptr_room_1)\n",
      "4. drop(ptr_ball_0,ptr_room_1,ptr_gripper_0)\n",
      "5. move(ptr_room_1,ptr_room_0)\n",
      "6. endfor(ptr_ball_0++,0)\n",
      "7. end\n",
      "\n",
      "[INFO] Number of instances: 3\n",
      "[INFO] GOAL ACHIEVED!\n",
      "[INFO] Total time: [0.001s]\n",
      "Example 3 has been repaired? True\n"
     ]
    }
   ],
   "source": [
    "\"\"\"BFGP++ repairing (if needed) 3 Gripper programs for the same input instances\"\"\"\n",
    "domain = '../tests/domains/gripper/domain.pddl'\n",
    "problems = [f'../tests/domains/gripper/p{i:02}.pddl' for i in range(1, 4)]\n",
    "\n",
    "# Example 1: the input program is correct\n",
    "kwargs = dict({'mode': 'repair',\n",
    "               'theory': 'cpp',\n",
    "               'program_lines': 10,\n",
    "               'program': '../tests/domains/gripper/program_repair/gripper_cpp_ok',\n",
    "               'translated_problem_dir': 'tmp_gripper_ok/'})\n",
    "\n",
    "print(f\"Example 1 has been repaired? {base_bfgp_call(domain_file=domain, problem_files=problems, args=kwargs)}\")\n",
    "\n",
    "# Example 2: the input program has some missing loops\n",
    "kwargs = dict({'mode': 'repair',\n",
    "               'theory': 'cpp',\n",
    "               'program_lines': 10,\n",
    "               'program': '../tests/domains/gripper/program_repair/gripper_cpp_missing_loops',\n",
    "               'translated_problem_dir': 'tmp_gripper_missing_loops/'})\n",
    "\n",
    "print(f\"Example 2 has been repaired? {base_bfgp_call(domain_file=domain, problem_files=problems, args=kwargs)}\")\n",
    "\n",
    "# Example 3: the input program has some missing planning action\n",
    "kwargs = dict({'mode': 'repair',\n",
    "               'theory': 'cpp',\n",
    "               'program_lines': 10,\n",
    "               'program': '../tests/domains/gripper/program_repair/gripper_cpp_missing_planning_actions',\n",
    "               'translated_problem_dir': 'tmp_gripper_missing_planning_actions/'})\n",
    "\n",
    "print(f\"Example 3 has been repaired? {base_bfgp_call(domain_file=domain, problem_files=problems, args=kwargs)}\")"
   ],
   "metadata": {
    "collapsed": false,
    "ExecuteTime": {
     "end_time": "2023-10-26T13:17:28.647617663Z",
     "start_time": "2023-10-26T13:17:24.558645006Z"
    }
   },
   "id": "ef491db174caaf03"
  },
  {
   "cell_type": "markdown",
   "source": [
    "\n",
    "\n",
    "## Input Arguments\n",
    "(List the input arguments accepted by the interface)\n",
    "\n",
    "## Usage Examples\n",
    "(Short description of the 3 theories or target languages accepted in the system)\n",
    "\n"
   ],
   "metadata": {
    "collapsed": false
   },
   "id": "bb0ba74dbd322711"
  },
  {
   "cell_type": "markdown",
   "source": [
    "  \n",
    "\n",
    "### STRIPS benchmarks\n",
    "...\n",
    "\n",
    "### Program Synthesis benchmarks\n",
    "...\n",
    "\n",
    "### Learning Action Models benchmarks\n",
    "...\n",
    "\n"
   ],
   "metadata": {
    "collapsed": false
   },
   "id": "4e63287c821784b0"
  },
  {
   "cell_type": "markdown",
   "source": [],
   "metadata": {
    "collapsed": false
   },
   "id": "29cc45f09f0df848"
  }
 ],
 "metadata": {
  "kernelspec": {
   "display_name": "Python 3",
   "language": "python",
   "name": "python3"
  },
  "language_info": {
   "codemirror_mode": {
    "name": "ipython",
    "version": 2
   },
   "file_extension": ".py",
   "mimetype": "text/x-python",
   "name": "python",
   "nbconvert_exporter": "python",
   "pygments_lexer": "ipython2",
   "version": "2.7.6"
  }
 },
 "nbformat": 4,
 "nbformat_minor": 5
}
