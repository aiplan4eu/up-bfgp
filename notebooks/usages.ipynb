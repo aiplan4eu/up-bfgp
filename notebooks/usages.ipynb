{
 "cells": [
  {
   "cell_type": "markdown",
   "source": [
    "# Using BFGP++ in the Unified Planning framework\n",
    "\n",
    "## Installation\n",
    "(Show how to install the interface with pip commands)\n",
    "\n",
    "## Execution modes\n",
    "\n",
    "(Short description of the 3 modes accepted in the system)\n",
    "(Run the following examples from Python code instead of parsing PDDL)\n",
    "(Describe the Gripper example before the modes)\n",
    "\n",
    "First let's import the required libraries:"
   ],
   "metadata": {
    "collapsed": false
   },
   "id": "f7c05a2973b21510"
  },
  {
   "cell_type": "code",
   "execution_count": 3,
   "outputs": [],
   "source": [
    "from unified_planning.shortcuts import *  # type: ignore\n",
    "from unified_planning.plans import PlanKind  # type: ignore\n",
    "from unified_planning.engines.results import PlanGenerationResultStatus"
   ],
   "metadata": {
    "collapsed": false,
    "ExecuteTime": {
     "end_time": "2023-10-26T10:11:12.867921190Z",
     "start_time": "2023-10-26T10:11:12.802263196Z"
    }
   },
   "id": "4660e92a1bc8f53d"
  },
  {
   "cell_type": "markdown",
   "source": [
    "\n",
    "\n",
    "### Synthesis\n",
    "\n",
    "This mode refers to the generation of a planning program given a domain and a set of planning instances in that domain. For instance, the _Gripper_ domain is defined by 3 sorts of objects (_room_, _ball_, and _gripper_); 4 predicates that refer to whether the robby is (_robby-at_), whether each ball is in a specific room (_at_), if a gripper is free (_free_) or if it is carrying a ball (_carry_); 2 sorts of constants which refer to _left_ and _right_ grippers, and rooms _A_ and _B_; and 3 action schemas to describe ...\n",
    "\n",
    "### Validation\n",
    "\n",
    "...\n",
    "\n",
    "### Repair\n",
    "\n",
    "...\n",
    "\n",
    "\n",
    "## Input Arguments\n",
    "(List the input arguments accepted by the interface)\n",
    "\n",
    "## Usage Examples\n",
    "(Short description of the 3 theories or target languages accepted in the system)\n",
    "\n",
    "The execution of the framework requires a `domain_file` name, a list of `problem_files` names and the set of arguments (`args`) which depend on the executed mode. The following code serve as a base for calling _BFGP++_:"
   ],
   "metadata": {
    "collapsed": false
   },
   "id": "bb0ba74dbd322711"
  },
  {
   "cell_type": "code",
   "execution_count": 4,
   "outputs": [],
   "source": [
    "def base_bfgp_test(self, domain_file: str, problem_files: List[str], args: dict):\n",
    "    with up.environment.get_environment().factory.FewshotPlanner(name='bfgp') as bfgp:\n",
    "        bfgp.set_arguments(**args)\n",
    "        problems = bfgp.generate_problems(domain_file, problem_files)\n",
    "        # Compute the generalized plan for these input problems\n",
    "        result = bfgp.solve(problems, output_stream=sys.stdout)\n",
    "        # Check whether all generated plans are satisficing\n",
    "        assert all(r == PlanGenerationResultStatus.SOLVED_SATISFICING for r in result)"
   ],
   "metadata": {
    "collapsed": false,
    "ExecuteTime": {
     "end_time": "2023-10-26T10:11:12.898606207Z",
     "start_time": "2023-10-26T10:11:12.870862167Z"
    }
   },
   "id": "6254f69eff7099d6"
  },
  {
   "cell_type": "markdown",
   "source": [
    "  \n",
    "\n",
    "### STRIPS benchmarks\n",
    "...\n",
    "\n",
    "### Program Synthesis benchmarks\n",
    "...\n",
    "\n",
    "### Learning Action Models benchmarks\n",
    "...\n",
    "\n"
   ],
   "metadata": {
    "collapsed": false
   },
   "id": "4e63287c821784b0"
  },
  {
   "cell_type": "markdown",
   "source": [],
   "metadata": {
    "collapsed": false
   },
   "id": "29cc45f09f0df848"
  }
 ],
 "metadata": {
  "kernelspec": {
   "display_name": "Python 3",
   "language": "python",
   "name": "python3"
  },
  "language_info": {
   "codemirror_mode": {
    "name": "ipython",
    "version": 2
   },
   "file_extension": ".py",
   "mimetype": "text/x-python",
   "name": "python",
   "nbconvert_exporter": "python",
   "pygments_lexer": "ipython2",
   "version": "2.7.6"
  }
 },
 "nbformat": 4,
 "nbformat_minor": 5
}
